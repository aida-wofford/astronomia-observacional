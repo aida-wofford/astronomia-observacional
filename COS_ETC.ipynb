{
  "nbformat": 4,
  "nbformat_minor": 0,
  "metadata": {
    "colab": {
      "provenance": [],
      "authorship_tag": "ABX9TyPZkVU9xLoTggOOVlL45TZF",
      "include_colab_link": true
    },
    "kernelspec": {
      "name": "python3",
      "display_name": "Python 3"
    },
    "language_info": {
      "name": "python"
    }
  },
  "cells": [
    {
      "cell_type": "markdown",
      "metadata": {
        "id": "view-in-github",
        "colab_type": "text"
      },
      "source": [
        "<a href=\"https://colab.research.google.com/github/aida-wofford/astronomia-observacional/blob/main/COS_ETC.ipynb\" target=\"_parent\"><img src=\"https://colab.research.google.com/assets/colab-badge.svg\" alt=\"Open In Colab\"/></a>"
      ]
    },
    {
      "cell_type": "markdown",
      "source": [
        "# Objetivos"
      ],
      "metadata": {
        "id": "MVpkPaMYpCOz"
      }
    },
    {
      "cell_type": "markdown",
      "source": [
        "Puedo calcular el tiempo de exposición necesario para observar a la galaxia SBS 0335-052E con el espectrógrafo COS de HST con una cierta señal a ruido en una región espectral dada.. "
      ],
      "metadata": {
        "id": "qFDhcDDA0P38"
      }
    },
    {
      "cell_type": "markdown",
      "source": [
        "# Práctica Guiada"
      ],
      "metadata": {
        "id": "tNMWuPZE0eNL"
      }
    },
    {
      "cell_type": "markdown",
      "source": [
        "Abre la calculadora de tiempo de exposición de HST COS que se encuentra aquí: https://etc.stsci.edu/etc/input/cos/spectroscopic/"
      ],
      "metadata": {
        "id": "hyjxnlQB4O11"
      }
    },
    {
      "cell_type": "markdown",
      "source": [
        "\n",
        "* Imagina que queremos obtener un espectro ultravioleta de la galaxia irregular SBS 0335-052E con el espectrógrafo COS del Hubble. La región espectral de interés está al rededor de los 1640 Å.\n",
        "\n",
        "* Calcularemos tiempos de exposición con las rejillas (gratings) de resolución media (su nombre termina con M) y baja (su nombre termina con L). En la sección 1 de la calculadora, escoge una rejilla M que sea adecuada para la región espectral de interés. Escribe abajo las configuracines que explorarás.\n",
        "\n",
        "\n",
        "\n"
      ],
      "metadata": {
        "id": "QJXPlOrG0ic2"
      }
    },
    {
      "cell_type": "code",
      "source": [
        "grating_m=''\n",
        "cen_wave_m=''\n",
        "grating_l=''\n",
        "cen_wave_l=''"
      ],
      "metadata": {
        "id": "qaEcfBgt951l"
      },
      "execution_count": 9,
      "outputs": []
    },
    {
      "cell_type": "markdown",
      "source": [
        "Necesitamos saber la señal a ruido que queremos alcanzar en la región espectral de interés para poder realizar la ciencia que queremos hacer. \n",
        "\n",
        "Supón que queremos alcanzar una señal a ruido, S/N = 10. Ingresa este valor en la calculadora.\n",
        "\n",
        "Imagina que estás observando una fuente puntual en la galaxia, como un cúmulo de estrellas O y B. Díle esto a la calculadora en la sección 2."
      ],
      "metadata": {
        "id": "smlkA3v8-ek3"
      }
    },
    {
      "cell_type": "markdown",
      "source": [
        "\n",
        "Es necesario conocer la morfología del espectro. Asume que el continuo de la galaxia SBS 0335-052E se puede ajustar con  una ley the potencias, F_lambda = lambda ^ (-2.6). Escoge este tipo de espectro en la sección 3 de la calculadora."
      ],
      "metadata": {
        "id": "sVbdXUyl9l-m"
      }
    },
    {
      "cell_type": "markdown",
      "source": [
        "Para calcular el tiempo de exposición necesitamos conocer el flujo aproximado que nos llegaría de esa galaxia, observada a través de la abertura principal del espectrógrafo, en la región del espectro de interés. \n",
        "\n",
        "* Escoge la \"Primary Science Aperture\" del espectrógrafo.\n",
        "\n",
        "* Encuentra el valor del flujo en el continuo cerca de lambda = 1640 Å, desenrojecido por polovo en la Vía Láctea y en el sistema de referencia de la galaxia. Para esto, usa la figura 2 de Wofford et al. 2021 que puedes encontrar en ADS (https://ui.adsabs.harvard.edu/). Escribe el valor abajo y en la sección 4 de la calculadora."
      ],
      "metadata": {
        "id": "f-Kyinbq9s-P"
      }
    },
    {
      "cell_type": "code",
      "source": [
        "F_1640=0\n",
        "unidades=''"
      ],
      "metadata": {
        "id": "7Q9cWzYx1FXc"
      },
      "execution_count": 10,
      "outputs": []
    },
    {
      "cell_type": "markdown",
      "source": [
        "La luz llegará al telescopio corrida al rojo y con exceso de color total (Vía Láctea + Intrínseco). \n",
        "\n",
        "Encuentra el corrimiento al rojo y el exceso de color E(B-V) debido al polvo en la Vía Láctea (Milky Way) de la galaxia SBS 0335-052E en NED (https://ned.ipac.caltech.edu/) y anótalos abajo y en la calculadora."
      ],
      "metadata": {
        "id": "UowaS9WN0iat"
      }
    },
    {
      "cell_type": "code",
      "source": [
        "redshift=0\n",
        "ebv_mw=0"
      ],
      "metadata": {
        "id": "zjkE-N7H04n4"
      },
      "execution_count": 4,
      "outputs": []
    },
    {
      "cell_type": "markdown",
      "source": [
        "Vamos a asumir que la galaxia tiene un exceso de color E(B-V) debido al polvo intrínseco de la galaxia, E(B-V)=0.01 mag. Escribe el exceso de color total. Si el flujo que utilizaste está corregido por efecto Doppler y polvo, hay que deshacer estas correcciones en la sección 3 de la calculadora."
      ],
      "metadata": {
        "id": "mLaqPzzJ5yFH"
      }
    },
    {
      "cell_type": "code",
      "source": [
        "ebv_intrinsic=0\n",
        "ebv_total=0"
      ],
      "metadata": {
        "id": "51yDwKJr6EdW"
      },
      "execution_count": 7,
      "outputs": []
    },
    {
      "cell_type": "markdown",
      "source": [
        "Supón que el tiempo de observación disponible durante cada órbita del Hubble a la Tierra es 57 min. Calcula el número de órbitas para cada rejilla."
      ],
      "metadata": {
        "id": "sJnZEsbG0ij4"
      }
    },
    {
      "cell_type": "code",
      "source": [
        "texp_GXXXL=0\n",
        "orbits_GXXXL=0\n",
        "\n",
        "texp_GXXXM=0\n",
        "orbits_GXXXM=0"
      ],
      "metadata": {
        "id": "dki9aRk388iB"
      },
      "execution_count": 8,
      "outputs": []
    },
    {
      "cell_type": "code",
      "source": [],
      "metadata": {
        "id": "85UjyOUd9KzG"
      },
      "execution_count": null,
      "outputs": []
    }
  ]
}