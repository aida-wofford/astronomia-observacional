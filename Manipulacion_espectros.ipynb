{
  "nbformat": 4,
  "nbformat_minor": 0,
  "metadata": {
    "kernelspec": {
      "display_name": "Python 3",
      "language": "python",
      "name": "python3"
    },
    "language_info": {
      "codemirror_mode": {
        "name": "ipython",
        "version": 3
      },
      "file_extension": ".py",
      "mimetype": "text/x-python",
      "name": "python",
      "nbconvert_exporter": "python",
      "pygments_lexer": "ipython3",
      "version": "3.8.3"
    },
    "colab": {
      "name": "Manipulacion_espectros",
      "provenance": [],
      "include_colab_link": true
    }
  },
  "cells": [
    {
      "cell_type": "markdown",
      "metadata": {
        "id": "view-in-github",
        "colab_type": "text"
      },
      "source": [
        "<a href=\"https://colab.research.google.com/github/aida-wofford/astronomia-observacional/blob/main/Manipulacion_espectros.ipynb\" target=\"_parent\"><img src=\"https://colab.research.google.com/assets/colab-badge.svg\" alt=\"Open In Colab\"/></a>"
      ]
    },
    {
      "cell_type": "markdown",
      "metadata": {
        "id": "EaFa8-qiJ0f8"
      },
      "source": [
        "# Práctica: obtención y manipulación del espectro óptico de una galaxia del sondeo Sloan Digital Sky Survey (SDSS).\n",
        "## Objetivos específicos de la práctica.   \n",
        "* Puedo usar métodos manuales y automáticos para bajar de bases astronómicas de datos el espectro de una galaxia, su corrimiento al rojo, y su exceso de color debido al polvo en la Vía Láctea.\n",
        "* Puedo corregir el espectro de la galaxia por polvo en la Vía Láctea.\n",
        "* Puedo ajustar y sustraer el continuo del espectro de la galaxia. \n",
        "* Puedo medir las propiedades de algunas líneas conocidas del espectro de la galaxia.\n",
        "* Puedo determinar el corrimiento al rojo de la galaxia.\n",
        "* Puedo corregir el espectro de la galaxia por corrimiento al rojo."
      ]
    },
    {
      "cell_type": "markdown",
      "metadata": {
        "id": "fjSAgr487MYO"
      },
      "source": [
        "# Detalles sobre este notebook de python."
      ]
    },
    {
      "cell_type": "code",
      "metadata": {
        "id": "RRkvakk_5Vov"
      },
      "source": [
        "__author__ = 'Aida Nava de Wofford <awofford@astro.unam.mx>, Sundar Srinivasan <s.srinivasan@irya.unam.mx>'\n",
        "__version__ = '20211125'\n",
        "__datasets__ = ['SDSS']  # datos usados en este notebook\n",
        "__keywords__ = ['Curso de Astronomía Observacional 2021', 'SDSS', 'espectro'], # palabras clave relevantes a este notebook"
      ],
      "execution_count": 1,
      "outputs": []
    },
    {
      "cell_type": "markdown",
      "metadata": {
        "id": "7qTkYkpQMZqL"
      },
      "source": [
        "# Instalación de versiones necesarias de dependencias.\n",
        "## Dar click a \"RESTART RUNTIME\" al final de la instalación y proseguir con la práctica."
      ]
    },
    {
      "cell_type": "code",
      "metadata": {
        "id": "GcHwwe7vLwyA",
        "colab": {
          "base_uri": "https://localhost:8080/",
          "height": 1000
        },
        "outputId": "17f326bf-d5d7-4150-ac29-28bd05c163e3"
      },
      "source": [
        "!pip install --force-reinstall jsonschema==3.2.0"
      ],
      "execution_count": 2,
      "outputs": [
        {
          "output_type": "stream",
          "name": "stdout",
          "text": [
            "Collecting jsonschema==3.2.0\n",
            "  Downloading jsonschema-3.2.0-py2.py3-none-any.whl (56 kB)\n",
            "\u001b[?25l\r\u001b[K     |█████▉                          | 10 kB 24.8 MB/s eta 0:00:01\r\u001b[K     |███████████▋                    | 20 kB 31.2 MB/s eta 0:00:01\r\u001b[K     |█████████████████▌              | 30 kB 36.5 MB/s eta 0:00:01\r\u001b[K     |███████████████████████▎        | 40 kB 32.3 MB/s eta 0:00:01\r\u001b[K     |█████████████████████████████   | 51 kB 18.3 MB/s eta 0:00:01\r\u001b[K     |████████████████████████████████| 56 kB 4.0 MB/s \n",
            "\u001b[?25hCollecting six>=1.11.0\n",
            "  Downloading six-1.16.0-py2.py3-none-any.whl (11 kB)\n",
            "Collecting pyrsistent>=0.14.0\n",
            "  Downloading pyrsistent-0.18.0-cp37-cp37m-manylinux1_x86_64.whl (119 kB)\n",
            "\u001b[K     |████████████████████████████████| 119 kB 34.7 MB/s \n",
            "\u001b[?25hCollecting setuptools\n",
            "  Downloading setuptools-59.2.0-py3-none-any.whl (952 kB)\n",
            "\u001b[K     |████████████████████████████████| 952 kB 49.7 MB/s \n",
            "\u001b[?25hCollecting attrs>=17.4.0\n",
            "  Downloading attrs-21.2.0-py2.py3-none-any.whl (53 kB)\n",
            "\u001b[K     |████████████████████████████████| 53 kB 2.5 MB/s \n",
            "\u001b[?25hCollecting importlib-metadata\n",
            "  Downloading importlib_metadata-4.8.2-py3-none-any.whl (17 kB)\n",
            "Collecting zipp>=0.5\n",
            "  Downloading zipp-3.6.0-py3-none-any.whl (5.3 kB)\n",
            "Collecting typing-extensions>=3.6.4\n",
            "  Downloading typing_extensions-4.0.0-py3-none-any.whl (22 kB)\n",
            "Installing collected packages: zipp, typing-extensions, six, setuptools, pyrsistent, importlib-metadata, attrs, jsonschema\n",
            "  Attempting uninstall: zipp\n",
            "    Found existing installation: zipp 3.6.0\n",
            "    Uninstalling zipp-3.6.0:\n",
            "      Successfully uninstalled zipp-3.6.0\n",
            "  Attempting uninstall: typing-extensions\n",
            "    Found existing installation: typing-extensions 3.10.0.2\n",
            "    Uninstalling typing-extensions-3.10.0.2:\n",
            "      Successfully uninstalled typing-extensions-3.10.0.2\n",
            "  Attempting uninstall: six\n",
            "    Found existing installation: six 1.15.0\n",
            "    Uninstalling six-1.15.0:\n",
            "      Successfully uninstalled six-1.15.0\n",
            "  Attempting uninstall: setuptools\n",
            "    Found existing installation: setuptools 57.4.0\n",
            "    Uninstalling setuptools-57.4.0:\n",
            "      Successfully uninstalled setuptools-57.4.0\n",
            "  Attempting uninstall: pyrsistent\n",
            "    Found existing installation: pyrsistent 0.18.0\n",
            "    Uninstalling pyrsistent-0.18.0:\n",
            "      Successfully uninstalled pyrsistent-0.18.0\n",
            "  Attempting uninstall: importlib-metadata\n",
            "    Found existing installation: importlib-metadata 4.8.2\n",
            "    Uninstalling importlib-metadata-4.8.2:\n",
            "      Successfully uninstalled importlib-metadata-4.8.2\n",
            "  Attempting uninstall: attrs\n",
            "    Found existing installation: attrs 21.2.0\n",
            "    Uninstalling attrs-21.2.0:\n",
            "      Successfully uninstalled attrs-21.2.0\n",
            "  Attempting uninstall: jsonschema\n",
            "    Found existing installation: jsonschema 2.6.0\n",
            "    Uninstalling jsonschema-2.6.0:\n",
            "      Successfully uninstalled jsonschema-2.6.0\n",
            "\u001b[31mERROR: pip's dependency resolver does not currently take into account all the packages that are installed. This behaviour is the source of the following dependency conflicts.\n",
            "nbclient 0.5.9 requires jupyter-client>=6.1.5, but you have jupyter-client 5.3.5 which is incompatible.\n",
            "google-colab 1.0.0 requires six~=1.15.0, but you have six 1.16.0 which is incompatible.\n",
            "datascience 0.10.6 requires folium==0.2.1, but you have folium 0.8.3 which is incompatible.\n",
            "arviz 0.11.4 requires typing-extensions<4,>=3.7.4.3, but you have typing-extensions 4.0.0 which is incompatible.\n",
            "albumentations 0.1.12 requires imgaug<0.2.7,>=0.2.5, but you have imgaug 0.2.9 which is incompatible.\u001b[0m\n",
            "Successfully installed attrs-21.2.0 importlib-metadata-4.8.2 jsonschema-3.2.0 pyrsistent-0.18.0 setuptools-59.2.0 six-1.16.0 typing-extensions-4.0.0 zipp-3.6.0\n"
          ]
        },
        {
          "output_type": "display_data",
          "data": {
            "application/vnd.colab-display-data+json": {
              "pip_warning": {
                "packages": [
                  "pkg_resources",
                  "six"
                ]
              }
            }
          },
          "metadata": {}
        }
      ]
    },
    {
      "cell_type": "markdown",
      "metadata": {
        "id": "YsvHtO6XOJyt"
      },
      "source": [
        "# Instalación de módulos de python necesarios, en este caso numpy y \"SDSS\" de la biblioteca de astroquery."
      ]
    },
    {
      "cell_type": "markdown",
      "metadata": {
        "id": "GByFTyy57SN2"
      },
      "source": [
        "* \"numpy\" es un módulo de Python que se utiliza para trabajar con matrices.También tiene funciones para trabajar en el dominio del álgebra lineal, la transformada de Fourier y las matrices.\n",
        "* \"astroquery\" es un conjunto de herramientas para consultar bases de datos y formularios web astronómicos.\n"
      ]
    },
    {
      "cell_type": "code",
      "metadata": {
        "id": "EFawGX0h5wna",
        "colab": {
          "base_uri": "https://localhost:8080/"
        },
        "outputId": "e0349cf8-1e41-441b-dd8a-9b84c1497ef7"
      },
      "source": [
        "import warnings, numpy as np\n",
        "warnings.filterwarnings(\"ignore\", category = np.VisibleDeprecationWarning)\n",
        "warnings.filterwarnings(\"ignore\", category = RuntimeWarning)\n",
        "try:\n",
        "  from astroquery.sdss import SDSS\n",
        "except:\n",
        "  !pip install astroquery\n",
        "  from astroquery.sdss import SDSS"
      ],
      "execution_count": 1,
      "outputs": [
        {
          "output_type": "stream",
          "name": "stdout",
          "text": [
            "Collecting astroquery\n",
            "  Downloading astroquery-0.4.4-py3-none-any.whl (4.5 MB)\n",
            "\u001b[K     |████████████████████████████████| 4.5 MB 12.9 MB/s \n",
            "\u001b[?25hRequirement already satisfied: astropy>=4.0 in /usr/local/lib/python3.7/dist-packages (from astroquery) (4.3.1)\n",
            "Collecting keyring>=4.0\n",
            "  Downloading keyring-23.3.0-py3-none-any.whl (33 kB)\n",
            "Requirement already satisfied: requests>=2.4.3 in /usr/local/lib/python3.7/dist-packages (from astroquery) (2.23.0)\n",
            "Requirement already satisfied: html5lib>=0.999 in /usr/local/lib/python3.7/dist-packages (from astroquery) (1.0.1)\n",
            "Requirement already satisfied: numpy>=1.16 in /usr/local/lib/python3.7/dist-packages (from astroquery) (1.19.5)\n",
            "Collecting pyvo>=1.1\n",
            "  Downloading pyvo-1.1-py3-none-any.whl (802 kB)\n",
            "\u001b[K     |████████████████████████████████| 802 kB 53.6 MB/s \n",
            "\u001b[?25hRequirement already satisfied: beautifulsoup4>=4.3.2 in /usr/local/lib/python3.7/dist-packages (from astroquery) (4.6.3)\n",
            "Requirement already satisfied: pyerfa>=1.7.3 in /usr/local/lib/python3.7/dist-packages (from astropy>=4.0->astroquery) (2.0.0.1)\n",
            "Requirement already satisfied: importlib-metadata in /usr/local/lib/python3.7/dist-packages (from astropy>=4.0->astroquery) (4.8.2)\n",
            "Requirement already satisfied: webencodings in /usr/local/lib/python3.7/dist-packages (from html5lib>=0.999->astroquery) (0.5.1)\n",
            "Requirement already satisfied: six>=1.9 in /usr/local/lib/python3.7/dist-packages (from html5lib>=0.999->astroquery) (1.16.0)\n",
            "Collecting SecretStorage>=3.2\n",
            "  Downloading SecretStorage-3.3.1-py3-none-any.whl (15 kB)\n",
            "Collecting jeepney>=0.4.2\n",
            "  Downloading jeepney-0.7.1-py3-none-any.whl (54 kB)\n",
            "\u001b[K     |████████████████████████████████| 54 kB 2.5 MB/s \n",
            "\u001b[?25hRequirement already satisfied: typing-extensions>=3.6.4 in /usr/local/lib/python3.7/dist-packages (from importlib-metadata->astropy>=4.0->astroquery) (4.0.0)\n",
            "Requirement already satisfied: zipp>=0.5 in /usr/local/lib/python3.7/dist-packages (from importlib-metadata->astropy>=4.0->astroquery) (3.6.0)\n",
            "Collecting mimeparse\n",
            "  Downloading mimeparse-0.1.3.tar.gz (4.4 kB)\n",
            "Requirement already satisfied: chardet<4,>=3.0.2 in /usr/local/lib/python3.7/dist-packages (from requests>=2.4.3->astroquery) (3.0.4)\n",
            "Requirement already satisfied: idna<3,>=2.5 in /usr/local/lib/python3.7/dist-packages (from requests>=2.4.3->astroquery) (2.10)\n",
            "Requirement already satisfied: urllib3!=1.25.0,!=1.25.1,<1.26,>=1.21.1 in /usr/local/lib/python3.7/dist-packages (from requests>=2.4.3->astroquery) (1.24.3)\n",
            "Requirement already satisfied: certifi>=2017.4.17 in /usr/local/lib/python3.7/dist-packages (from requests>=2.4.3->astroquery) (2021.10.8)\n",
            "Collecting cryptography>=2.0\n",
            "  Downloading cryptography-36.0.0-cp36-abi3-manylinux_2_24_x86_64.whl (3.6 MB)\n",
            "\u001b[K     |████████████████████████████████| 3.6 MB 33.4 MB/s \n",
            "\u001b[?25hRequirement already satisfied: cffi>=1.12 in /usr/local/lib/python3.7/dist-packages (from cryptography>=2.0->SecretStorage>=3.2->keyring>=4.0->astroquery) (1.15.0)\n",
            "Requirement already satisfied: pycparser in /usr/local/lib/python3.7/dist-packages (from cffi>=1.12->cryptography>=2.0->SecretStorage>=3.2->keyring>=4.0->astroquery) (2.21)\n",
            "Building wheels for collected packages: mimeparse\n",
            "  Building wheel for mimeparse (setup.py) ... \u001b[?25l\u001b[?25hdone\n",
            "  Created wheel for mimeparse: filename=mimeparse-0.1.3-py3-none-any.whl size=3864 sha256=1ef5a65f9da665418a4c4d42eaaf963587eca6970e161ec6f0d86936dd11f5de\n",
            "  Stored in directory: /root/.cache/pip/wheels/49/b4/2d/0081759ae1833bd694024801f7aacddcda8a687e8d5fbaeebd\n",
            "Successfully built mimeparse\n",
            "Installing collected packages: jeepney, cryptography, SecretStorage, mimeparse, pyvo, keyring, astroquery\n",
            "Successfully installed SecretStorage-3.3.1 astroquery-0.4.4 cryptography-36.0.0 jeepney-0.7.1 keyring-23.3.0 mimeparse-0.1.3 pyvo-1.1\n"
          ]
        }
      ]
    },
    {
      "cell_type": "markdown",
      "metadata": {
        "id": "WrSBpbptFDWP"
      },
      "source": [
        "# Reducción de datos.\n",
        "* Cuando uno baja espectros de la plataforma del SDSS, estos ya están  reducidos y listos para hacer ciencia. \n",
        "* **Leer acerca del proceso de reducción de datos en la sección 4.10.1 del siguiente artículo:** https://iopscience.iop.org/article/10.1086/324741/fulltext/\n",
        "* **¿Cuáles son los pasos de la reducción de datos seguidos para los espectros de SDSS?**"
      ]
    },
    {
      "cell_type": "markdown",
      "metadata": {
        "id": "RWeZmnchRJDj"
      },
      "source": [
        "RESPUESTA:"
      ]
    },
    {
      "cell_type": "markdown",
      "metadata": {
        "id": "53L9l7TmzLgq"
      },
      "source": [
        "## Método manual de obtención de las coordenadas del objeto.\n",
        "* Para bajar el espectro de SDSS de la galaxia, necesitamos sus coordenadas (RA, Dec) o (longitude, latitude) en el sistema de referencia Equatorial (J2000.0). \n",
        "* **Encuentra las coordenadas de la galaxia usando su nombre en la  base de datos de NED (https://ned.ipac.caltech.edu/). El nombre de la galaxia que utilizaremos en esta práctica es: KISSR 298.**\n",
        "\n",
        "* **Asigna a las variables de abajo las coordenadas del objecto que encontraste.**\n",
        "\n",
        "RESPUESTA:"
      ]
    },
    {
      "cell_type": "code",
      "metadata": {
        "id": "kHMIAzpqzLgr"
      },
      "source": [
        "RA_manual=0 # longitude in Equatorial J2000\n",
        "Dec_manual=0 # latitude in Equatorial J2000"
      ],
      "execution_count": 7,
      "outputs": []
    },
    {
      "cell_type": "markdown",
      "metadata": {
        "id": "lq2cWcXp_szm"
      },
      "source": [
        "* Nota: los métodos manuales tienen la desventaja de que uno comete errores al teclear. Aprendamos entonces a usar el método automático."
      ]
    },
    {
      "cell_type": "markdown",
      "metadata": {
        "id": "qnhlcxdrtZQ2"
      },
      "source": [
        "## Método manual de obtención de: ID de la placa de SDSS, fecha de observación y fibra."
      ]
    },
    {
      "cell_type": "markdown",
      "metadata": {
        "id": "6cctV-0QzLgs"
      },
      "source": [
        "* Para bajar el espectro de SDSS de la galaxia, son necesarios: el ID de la placa, fecha de observación y número de la fibra utilizada para obtener el espectro. \n",
        "* En la plataforma del SDSS Data Release 14 (https://skyserver.sdss.org/dr14/en/tools/chart/chartinfo.aspx), busca la galaxia usando las coordenadas que encontraste. \n",
        "* Dále a \"Get Image\" para ver la imagen del objeto. Puedes cambiar el tamaño de la imagen con los botones de \"+\" y \"-\".\n",
        "* Haz click en \"Explore\" para ir a donde se encuentra el espectro. \n",
        "* Abajo a la derecha, en donde dice \"Interactive Spectrum\", hay una tabla con información sobre las observaciones del objeto. \n",
        "* Asigna a las variables de abajo las coordenadas del objecto que encontraste.\n"
      ]
    },
    {
      "cell_type": "markdown",
      "metadata": {
        "id": "jRQ4ULMBt58X"
      },
      "source": [
        "RESPUESTA: \n",
        "\n",
        "\n",
        "\n",
        "\n"
      ]
    },
    {
      "cell_type": "code",
      "metadata": {
        "id": "An2dPH5czLgu"
      },
      "source": [
        "plate_manual=-1 # plate\n",
        "mjd_manual=-1 # modified Julian date\n",
        "fiberid_manual=-1 # fiberid"
      ],
      "execution_count": 8,
      "outputs": []
    },
    {
      "cell_type": "markdown",
      "metadata": {
        "id": "JVtVpw6gEAth"
      },
      "source": [
        "* Armemos el nombre del camino que lleva al espectro."
      ]
    },
    {
      "cell_type": "code",
      "metadata": {
        "id": "IzhKqwDhEH3h",
        "colab": {
          "base_uri": "https://localhost:8080/"
        },
        "outputId": "9f9de806-891a-482c-87fa-557ad6e8f4b5"
      },
      "source": [
        "archivo_con_espectro_man = 'https://dr14.sdss.org/optical/spectrum/view/data/format=fits/spec=lite?plateid='+str(plate_manual)+'&mjd='+str(mjd_manual)+'&fiberid='+str(fiberid_manual)\n",
        "print(archivo_con_espectro_man)"
      ],
      "execution_count": 9,
      "outputs": [
        {
          "output_type": "stream",
          "name": "stdout",
          "text": [
            "https://dr14.sdss.org/optical/spectrum/view/data/format=fits/spec=lite?plateid=-1&mjd=-1&fiberid=-1\n"
          ]
        }
      ]
    },
    {
      "cell_type": "markdown",
      "metadata": {
        "id": "G6GK2GhNa4Vs"
      },
      "source": [
        "## Método automático de obtención de las coordenadas del objeto.\n",
        "* Las bases de datos astronómicas tienen un servicio de \"busqueda por nombre\".\n",
        "* Utilizaremos el módulo `coords` para buscar de manera automática las coordenadas a partir del nombre del objeto.\n",
        "* SkyCoord consulta la base de datos CDS (http://cdsweb.u-strasbg.fr/) para encontrar las coordenadas del objeto.\n",
        "* Comenzamos importando el módulo necesario para bajar las coordenadas.\n"
      ]
    },
    {
      "cell_type": "code",
      "metadata": {
        "id": "IpRpUZLgwvHp",
        "colab": {
          "base_uri": "https://localhost:8080/"
        },
        "outputId": "39054561-8d74-4564-f7a6-478fb62f6942"
      },
      "source": [
        "from astropy import coordinates as coords\n",
        "pos = coords.SkyCoord.from_name(\"KISSR 298\") #pos variable para la posición del objeto.\n",
        "print(\"position: \", pos)"
      ],
      "execution_count": 10,
      "outputs": [
        {
          "output_type": "stream",
          "name": "stdout",
          "text": [
            "position:  <SkyCoord (ICRS): (ra, dec) in deg\n",
            "    (202.457448, 29.579719)>\n"
          ]
        }
      ]
    },
    {
      "cell_type": "markdown",
      "metadata": {
        "id": "0f-x6uSdUKCW"
      },
      "source": [
        "* **Verifica que las coordenadas son las mismas que las que encontraste manualmente.**"
      ]
    },
    {
      "cell_type": "code",
      "metadata": {
        "id": "cFpLaIUmUDiN",
        "colab": {
          "base_uri": "https://localhost:8080/"
        },
        "outputId": "d3bfef51-7b81-4ec9-bad8-b043df7c65d8"
      },
      "source": [
        "print(RA_manual, Dec_manual)"
      ],
      "execution_count": 11,
      "outputs": [
        {
          "output_type": "stream",
          "name": "stdout",
          "text": [
            "0 0\n"
          ]
        }
      ]
    },
    {
      "cell_type": "markdown",
      "metadata": {
        "id": "F4XlVHcTGDz5"
      },
      "source": [
        "## Método automático de obtención de los IDs de la placa, fecha y fibra.\n",
        "* Una vez que tenemos las coordenadas del objeto, buscamos en la base de datos de SDSS de manera automática los IDs que indican la placa con que se tomó el espectro, la fecha de observación y la fibra correspondiente a la posición del objeto usando los siguientes comandos:"
      ]
    },
    {
      "cell_type": "code",
      "metadata": {
        "id": "lmq8ejkZCD_c"
      },
      "source": [
        "tabla_sdss = SDSS.query_region(pos, spectro = True)\n",
        "plate = tabla_sdss[0][list(tabla_sdss.columns).index('plate')]\n",
        "mjd = tabla_sdss[0][list(tabla_sdss.columns).index('mjd')]\n",
        "fiberID = tabla_sdss[0][list(tabla_sdss.columns).index('fiberID')]"
      ],
      "execution_count": 12,
      "outputs": []
    },
    {
      "cell_type": "markdown",
      "metadata": {
        "id": "oCvkvXifDLOg"
      },
      "source": [
        "* Con estos parámetros podemos buscar el espectro."
      ]
    },
    {
      "cell_type": "code",
      "metadata": {
        "id": "RWzJNA-lDLee"
      },
      "source": [
        "sp = SDSS.get_spectra(matches = tabla_sdss, plate = plate, mjd = mjd, fiberID = fiberID)[0]"
      ],
      "execution_count": 13,
      "outputs": []
    },
    {
      "cell_type": "markdown",
      "metadata": {
        "id": "RDHfWuM2DbMg"
      },
      "source": [
        "* El espectro está en el segundo encabezado del archivo (sp[1])\n"
      ]
    },
    {
      "cell_type": "code",
      "metadata": {
        "id": "7Sa2qTjHDcn2",
        "colab": {
          "base_uri": "https://localhost:8080/"
        },
        "outputId": "3453fcd6-ce16-4488-e55b-8bcf6c94a0cb"
      },
      "source": [
        "specdata = sp[1].data\n",
        "print(specdata)"
      ],
      "execution_count": 14,
      "outputs": [
        {
          "output_type": "stream",
          "name": "stdout",
          "text": [
            "[(13.479021, 3.5816, 0.06797916, 0, 0, 1.1088611 , 9.002381, 13.217207)\n",
            " (19.215475, 3.5817, 0.06977836, 0, 0, 1.108475  , 9.212716, 13.737914)\n",
            " (14.267138, 3.5818, 0.07592517, 0, 0, 1.108091  , 9.300478, 13.168895)\n",
            " ...\n",
            " ( 8.162261, 3.9645, 0.35342726, 0, 0, 0.7729795 , 4.512267, 12.689797)\n",
            " (11.752623, 3.9646, 0.        , 0, 0, 0.77300555, 4.811207, 12.891481)\n",
            " (15.343176, 3.9647, 0.28280747, 0, 0, 0.77303153, 4.932665, 12.677738)]\n"
          ]
        }
      ]
    },
    {
      "cell_type": "markdown",
      "metadata": {
        "id": "OPBgfsZKzLgv"
      },
      "source": [
        "* Importamos el módulo necesario para guardar las unidades de longitud de onda y flujo."
      ]
    },
    {
      "cell_type": "code",
      "metadata": {
        "id": "fB_G7t6EzLgw"
      },
      "source": [
        "from astropy import units as u\n"
      ],
      "execution_count": 15,
      "outputs": []
    },
    {
      "cell_type": "markdown",
      "metadata": {
        "id": "ZJwkQEQHzLgy"
      },
      "source": [
        "* Abrimos el archivo y construimos los vectores de longitudes de onda (wave),  flujos (flux), y de errores en los flujos (err)."
      ]
    },
    {
      "cell_type": "code",
      "metadata": {
        "id": "_LEnUBdMzLg1"
      },
      "source": [
        "wave = 10**specdata['loglam'] * u.AA # longitud de onda\n",
        "flux = specdata['flux'] * 10**-17 * u.Unit('erg cm-2 s-1 AA-1') # flujo\n",
        "#ivar = specdata['ivar']# inverso de la varianza\n",
        "#err = 1 / np.sqrt(ivar) # error * u.Unit('erg cm-2 s-1 AA-1') # error en el flujo"
      ],
      "execution_count": 16,
      "outputs": []
    },
    {
      "cell_type": "markdown",
      "metadata": {
        "id": "6vkMW1dBJite"
      },
      "source": [
        "* Importamos el módulo para graficar (matplotlib)."
      ]
    },
    {
      "cell_type": "code",
      "metadata": {
        "id": "g0XFHIiLJnKc"
      },
      "source": [
        "from matplotlib import pyplot as plt\n",
        "%matplotlib inline"
      ],
      "execution_count": 17,
      "outputs": []
    },
    {
      "cell_type": "markdown",
      "metadata": {
        "id": "JNOVPEkEGaAz"
      },
      "source": [
        "# Método manual de poner unidades en los ejes de las gráficas.\n",
        "* Poner las unidades de los ejes de manera manual en las gráficas puede llevar a errores. \n",
        "* **¿Qué errores notas en las unidades de los ejes de la gráfica de abajo (compara con la gráfica del método automático de más abajo)?**"
      ]
    },
    {
      "cell_type": "markdown",
      "metadata": {
        "id": "2LxSSCJlVA59"
      },
      "source": [
        "RESPUESTA:"
      ]
    },
    {
      "cell_type": "code",
      "metadata": {
        "colab": {
          "base_uri": "https://localhost:8080/",
          "height": 326
        },
        "id": "FV7tE6VczLg3",
        "outputId": "8ff7d86d-5012-4c7a-aa19-f987cf99041f"
      },
      "source": [
        "f, ax = plt.subplots(figsize = (12, 4))\n",
        "ax.plot(wave, flux)\n",
        "plt.xlabel('Rest Wavelength (Anstrom)', fontsize = 16)\n",
        "plt.ylabel('Flux (Anstron/cm/s)', fontsize = 16)\n",
        "plt.xticks(fontsize = 16)\n",
        "plt.yticks(fontsize = 16)\n",
        "plt.title('SDSS spectrum of KISSR 298', fontsize = 16)\n",
        ";"
      ],
      "execution_count": 18,
      "outputs": [
        {
          "output_type": "execute_result",
          "data": {
            "application/vnd.google.colaboratory.intrinsic+json": {
              "type": "string"
            },
            "text/plain": [
              "''"
            ]
          },
          "metadata": {},
          "execution_count": 18
        },
        {
          "output_type": "display_data",
          "data": {
            "image/png": "[encoded data removed]",
            "text/plain": [
              "<Figure size 864x288 with 1 Axes>"
            ]
          },
          "metadata": {
            "needs_background": "light"
          }
        }
      ]
    },
    {
      "cell_type": "markdown",
      "metadata": {
        "id": "vSadwUsuHZ4S"
      },
      "source": [
        "## Método automático de poner las unidades en la gráfica."
      ]
    },
    {
      "cell_type": "markdown",
      "metadata": {
        "id": "Mbc27u2oz7xB"
      },
      "source": [
        "* Instalamos el paquete specutils que permite poner las unidades correctas en los ejes de la gráfica del espectro (specutils) y las dependencias necesarias."
      ]
    },
    {
      "cell_type": "code",
      "metadata": {
        "colab": {
          "base_uri": "https://localhost:8080/"
        },
        "id": "izIH2ooX0CUf",
        "outputId": "0af845f5-3d72-444d-a6aa-2d2481d7ac56"
      },
      "source": [
        "!pip install specutils"
      ],
      "execution_count": 19,
      "outputs": [
        {
          "output_type": "stream",
          "name": "stdout",
          "text": [
            "Collecting specutils\n",
            "  Downloading specutils-1.5.0-py3-none-any.whl (190 kB)\n",
            "\u001b[K     |████████████████████████████████| 190 kB 12.9 MB/s \n",
            "\u001b[?25hCollecting ndcube>=2.0\n",
            "  Downloading ndcube-2.0.1-py3-none-any.whl (108 kB)\n",
            "\u001b[K     |████████████████████████████████| 108 kB 68.1 MB/s \n",
            "\u001b[?25hCollecting asdf>=2.5\n",
            "  Downloading asdf-2.8.1.tar.gz (489 kB)\n",
            "\u001b[K     |████████████████████████████████| 489 kB 70.9 MB/s \n",
            "\u001b[?25h  Installing build dependencies ... \u001b[?25l\u001b[?25hdone\n",
            "  Getting requirements to build wheel ... \u001b[?25l\u001b[?25hdone\n",
            "    Preparing wheel metadata ... \u001b[?25l\u001b[?25hdone\n",
            "Requirement already satisfied: scipy in /usr/local/lib/python3.7/dist-packages (from specutils) (1.4.1)\n",
            "Collecting gwcs>=0.17.0\n",
            "  Downloading gwcs-0.17.0.tar.gz (184 kB)\n",
            "\u001b[K     |████████████████████████████████| 184 kB 53.8 MB/s \n",
            "\u001b[?25h  Installing build dependencies ... \u001b[?25l\u001b[?25hdone\n",
            "  Getting requirements to build wheel ... \u001b[?25l\u001b[?25hdone\n",
            "    Preparing wheel metadata ... \u001b[?25l\u001b[?25hdone\n",
            "Requirement already satisfied: astropy>=4.1 in /usr/local/lib/python3.7/dist-packages (from specutils) (4.3.1)\n",
            "Requirement already satisfied: pyyaml>=3.10 in /usr/local/lib/python3.7/dist-packages (from asdf>=2.5->specutils) (3.13)\n",
            "Requirement already satisfied: jsonschema<4,>=3.0.2 in /usr/local/lib/python3.7/dist-packages (from asdf>=2.5->specutils) (3.2.0)\n",
            "Collecting semantic-version>=2.8\n",
            "  Downloading semantic_version-2.8.5-py2.py3-none-any.whl (15 kB)\n",
            "Collecting jmespath>=0.6.2\n",
            "  Downloading jmespath-0.10.0-py2.py3-none-any.whl (24 kB)\n",
            "Requirement already satisfied: importlib-resources>=3 in /usr/local/lib/python3.7/dist-packages (from asdf>=2.5->specutils) (5.4.0)\n",
            "Requirement already satisfied: numpy>=1.10 in /usr/local/lib/python3.7/dist-packages (from asdf>=2.5->specutils) (1.19.5)\n",
            "Requirement already satisfied: packaging>=16.0 in /usr/local/lib/python3.7/dist-packages (from asdf>=2.5->specutils) (21.3)\n",
            "Requirement already satisfied: importlib-metadata in /usr/local/lib/python3.7/dist-packages (from astropy>=4.1->specutils) (4.8.2)\n",
            "Requirement already satisfied: pyerfa>=1.7.3 in /usr/local/lib/python3.7/dist-packages (from astropy>=4.1->specutils) (2.0.0.1)\n",
            "Requirement already satisfied: zipp>=3.1.0 in /usr/local/lib/python3.7/dist-packages (from importlib-resources>=3->asdf>=2.5->specutils) (3.6.0)\n",
            "Requirement already satisfied: attrs>=17.4.0 in /usr/local/lib/python3.7/dist-packages (from jsonschema<4,>=3.0.2->asdf>=2.5->specutils) (21.2.0)\n",
            "Requirement already satisfied: pyrsistent>=0.14.0 in /usr/local/lib/python3.7/dist-packages (from jsonschema<4,>=3.0.2->asdf>=2.5->specutils) (0.18.0)\n",
            "Requirement already satisfied: six>=1.11.0 in /usr/local/lib/python3.7/dist-packages (from jsonschema<4,>=3.0.2->asdf>=2.5->specutils) (1.16.0)\n",
            "Requirement already satisfied: setuptools in /usr/local/lib/python3.7/dist-packages (from jsonschema<4,>=3.0.2->asdf>=2.5->specutils) (59.2.0)\n",
            "Requirement already satisfied: pyparsing!=3.0.5,>=2.0.2 in /usr/local/lib/python3.7/dist-packages (from packaging>=16.0->asdf>=2.5->specutils) (3.0.6)\n",
            "Requirement already satisfied: typing-extensions>=3.6.4 in /usr/local/lib/python3.7/dist-packages (from importlib-metadata->astropy>=4.1->specutils) (4.0.0)\n",
            "Building wheels for collected packages: asdf, gwcs\n",
            "  Building wheel for asdf (PEP 517) ... \u001b[?25l\u001b[?25hdone\n",
            "  Created wheel for asdf: filename=asdf-2.8.1-py3-none-any.whl size=632306 sha256=0a19a140d970df910f680baeaba789826d479dcff187af2e38f21ccc3e829fc6\n",
            "  Stored in directory: /root/.cache/pip/wheels/e1/ad/c6/a316f10ae0d36c1d2a35f51912dfc56f5310d82e609fe0a4e7\n",
            "  Building wheel for gwcs (PEP 517) ... \u001b[?25l\u001b[?25hdone\n",
            "  Created wheel for gwcs: filename=gwcs-0.17.0-py3-none-any.whl size=122193 sha256=de23ff6d423ca6b089d8d4c0ceb5be20b792a54d79138955e97d64d2c1ebcb8d\n",
            "  Stored in directory: /root/.cache/pip/wheels/eb/05/ed/78806f6a48a7bf94ed2030a07624a1f4fb6faac5da39fbfbf2\n",
            "Successfully built asdf gwcs\n",
            "Installing collected packages: semantic-version, jmespath, asdf, gwcs, ndcube, specutils\n",
            "Successfully installed asdf-2.8.1 gwcs-0.17.0 jmespath-0.10.0 ndcube-2.0.1 semantic-version-2.8.5 specutils-1.5.0\n"
          ]
        }
      ]
    },
    {
      "cell_type": "markdown",
      "metadata": {
        "id": "CpcRlQnwnAcR"
      },
      "source": [
        "* Vamos a crear un objeto llamado \"Spectrum1D\" que vamos a graficar."
      ]
    },
    {
      "cell_type": "code",
      "metadata": {
        "id": "earpJ36ZIkSZ"
      },
      "source": [
        "from specutils import Spectrum1D\n",
        "spec = Spectrum1D(spectral_axis=wave, flux=flux)"
      ],
      "execution_count": 20,
      "outputs": []
    },
    {
      "cell_type": "markdown",
      "metadata": {
        "id": "7ymJdWpAKN08"
      },
      "source": [
        "* Importamos el módulo para usar unidades posteriormente en la gráfica. (quantity_support)"
      ]
    },
    {
      "cell_type": "code",
      "metadata": {
        "id": "Wm8CfJWcKHYp"
      },
      "source": [
        "from astropy.visualization import quantity_support\n",
        "quantity_support();  # para obtener las unidades en los ejes de la gráfica de abajo."
      ],
      "execution_count": 21,
      "outputs": []
    },
    {
      "cell_type": "markdown",
      "metadata": {
        "id": "HdpkbUu2zLg2"
      },
      "source": [
        "* Graficamos el espectro. La ventaja de specutils es que las unidades de los ejes de la gráfica están correctas."
      ]
    },
    {
      "cell_type": "code",
      "metadata": {
        "colab": {
          "base_uri": "https://localhost:8080/",
          "height": 274
        },
        "id": "ywwLmwzLe3Nv",
        "outputId": "20257a6b-aa2e-445f-9cc4-f502ebdd879a"
      },
      "source": [
        "f, ax = plt.subplots(figsize = (12, 3))\n",
        "ax.step(spec.spectral_axis, spec.flux)\n",
        "plt.xlabel('Longitud de onda ({})'.format(spec.spectral_axis.unit), fontsize = 16) \n",
        "plt.ylabel('Flujo ({})'.format(spec.flux.unit), fontsize = 16)\n",
        "plt.xticks(fontsize = 16)\n",
        "plt.yticks(fontsize = 16)\n",
        "plt.title('SDSS spectrum of KISSR 298', fontsize = 16);"
      ],
      "execution_count": 22,
      "outputs": [
        {
          "output_type": "display_data",
          "data": {
            "image/png": "[encoded data removed]",
            "text/plain": [
              "<Figure size 864x216 with 1 Axes>"
            ]
          },
          "metadata": {
            "needs_background": "light"
          }
        }
      ]
    },
    {
      "cell_type": "markdown",
      "metadata": {
        "id": "aeaOO9CRzLg5"
      },
      "source": [
        "# Corrección del espectro por polvo en la Vía Láctea\n",
        "* Lee el artículo de Wikipedia sobre extinción hasta la sección \"Extinction curves of other galaxies\" incluída,   aquí: https://en.wikipedia.org/wiki/Extinction_(astronomy).\n",
        "\n",
        "* Vamos a corregir la luz de las estrellas que se encuentran en la galaxia KISSR 298 por extinción debida al polvo en nuestra Galaxia.\n",
        "\n",
        "* Para esto, necesitamos el exceso de color que genera el polvo en nuestra Galaxia en la dirección de KISSR 298. "
      ]
    },
    {
      "cell_type": "markdown",
      "metadata": {
        "id": "UFzI9p5VM8Sr"
      },
      "source": [
        "## Método manual de obtención de extinciones en los filtros B y V. Las extinciones, A$_B$ y A$_V$, tienen unidades de magnitud.\n",
        "* Para calcular el exceso de color, E(B-V), primero encuentra la extinción Galáctica en las bandas Landolt B y V. Para esto ve a: https://ned.ipac.caltech.edu/ \n",
        "* Introduce el nombre del objeto\n",
        "* Ve a la pestaña de Galactic Extinction\n",
        "* Ve a la columna \"Galactic Extinctions\", en donde encontrarás los valores de B y V.\n",
        "* Asigna a las variables A_B y A_V de abajo, el valor de las extinciones en para observaciones en los filstros Blue y Visible.\n",
        "* La variable \"ebvmw\" contiene el exceso de color, E(B-V) debido al polvo en la Vía Láctea (Milky Way)."
      ]
    },
    {
      "cell_type": "markdown",
      "metadata": {
        "id": "iE6Er76CzLg5"
      },
      "source": [
        "RESPUESTA:\n",
        "\n",
        "\n"
      ]
    },
    {
      "cell_type": "code",
      "metadata": {
        "id": "Z99mPddnzLg6",
        "colab": {
          "base_uri": "https://localhost:8080/"
        },
        "outputId": "9301985c-67ca-415c-b572-c6fcb8e98ce0"
      },
      "source": [
        "A_B_manual =0 # extinción Galáctica en la banda B\n",
        "A_V_manual =0 # extinción Galáctica en la banda V\n",
        "ebvmw_manual = A_B_manual - A_V_manual # exceso de color E(B-V) de la Vía Láctea (Milky Way)\n",
        "print('E(B-V)_MW (manual) = ', ebvmw_manual, 'mag')"
      ],
      "execution_count": 23,
      "outputs": [
        {
          "output_type": "stream",
          "name": "stdout",
          "text": [
            "E(B-V)_MW (manual) =  0 mag\n"
          ]
        }
      ]
    },
    {
      "cell_type": "markdown",
      "metadata": {
        "id": "j94zBTkxNqKg"
      },
      "source": [
        "## Método automático de obtención de las extinciones.\n",
        "* Impotamos el módulo para poder obtener la extinción. \n",
        "* La tabla de extinción debida al polvo Galáctico del InfraRed Science Archive (IRSA):\n",
        "* https://irsa.ipac.caltech.edu/applications/DUST/index.html"
      ]
    },
    {
      "cell_type": "code",
      "metadata": {
        "id": "Go1wG0xjNuvP",
        "colab": {
          "base_uri": "https://localhost:8080/"
        },
        "outputId": "c89bdb2f-6686-4506-90e7-f47071dc687f"
      },
      "source": [
        "from astroquery.irsa_dust import IrsaDust\n",
        "#Have the `coords` module automatically look up the coordinates from the name of the source \n",
        "pos = coords.SkyCoord.from_name(\"KISSR 298\")\n",
        "table = IrsaDust.get_extinction_table(pos)"
      ],
      "execution_count": 24,
      "outputs": [
        {
          "output_type": "stream",
          "name": "stderr",
          "text": [
            "/usr/local/lib/python3.7/dist-packages/ipykernel_launcher.py:1: DeprecationWarning: the ``irsa_dust`` module has been moved to astroquery.ipac.irsa.irsa_dust, please update your imports.\n",
            "  \"\"\"Entry point for launching an IPython kernel.\n"
          ]
        }
      ]
    },
    {
      "cell_type": "markdown",
      "metadata": {
        "id": "SlZLKizgPMFn"
      },
      "source": [
        "* Obtenemos los valores de extinción para los filtros CTIO B y V\n",
        "*  Esto toma los valores de A_lambda calculados de acuerdo con la prescripción de Schlafly & Finkbeiner (2011), que amplía el Cardelli et al. (1989; CCM89) a longitudes de onda más largas."
      ]
    },
    {
      "cell_type": "code",
      "metadata": {
        "id": "UBWnGdFxPMPB",
        "colab": {
          "base_uri": "https://localhost:8080/"
        },
        "outputId": "31e3df0d-10d6-4b25-fee7-314d7ba652a8"
      },
      "source": [
        "A_B = table['A_SandF'][table['Filter_name'] == 'CTIO B'] # extinción Galáctica en la banda B\n",
        "A_V = table['A_SandF'][table['Filter_name'] == 'CTIO V'] # extinción Galáctica en la banda V\n",
        "ebvmw = A_B - A_V # exceso de color E(B-V) de la Vía Láctea (Milky Way)\n",
        "print('E(B-V)_MW = ', ebvmw.quantity)"
      ],
      "execution_count": 25,
      "outputs": [
        {
          "output_type": "stream",
          "name": "stdout",
          "text": [
            "E(B-V)_MW =  [0.017] mag\n"
          ]
        }
      ]
    },
    {
      "cell_type": "markdown",
      "metadata": {
        "id": "C0xaG1tDcH5a"
      },
      "source": [
        "* Compara con el valor encontrado manualmente."
      ]
    },
    {
      "cell_type": "code",
      "metadata": {
        "id": "qVRBbJTgcLj-",
        "colab": {
          "base_uri": "https://localhost:8080/"
        },
        "outputId": "f919915f-1e63-45be-f9d7-7aee7528bc67"
      },
      "source": [
        "print('E(B-V)_MW_manual = ', ebvmw_manual, 'mag')"
      ],
      "execution_count": 26,
      "outputs": [
        {
          "output_type": "stream",
          "name": "stdout",
          "text": [
            "E(B-V)_MW_manual =  0 mag\n"
          ]
        }
      ]
    },
    {
      "cell_type": "markdown",
      "metadata": {
        "id": "ERQKjW_S0wZ9"
      },
      "source": [
        "* Importamos el paquete necesario para hacer la corrección por polvo."
      ]
    },
    {
      "cell_type": "code",
      "metadata": {
        "colab": {
          "base_uri": "https://localhost:8080/"
        },
        "id": "6cw5RfOspTBw",
        "outputId": "61d091fc-9640-468d-f5eb-f073e2261088"
      },
      "source": [
        "!pip install git+https://github.com/karllark/dust_extinction.git"
      ],
      "execution_count": 27,
      "outputs": [
        {
          "output_type": "stream",
          "name": "stdout",
          "text": [
            "Collecting git+https://github.com/karllark/dust_extinction.git\n",
            "  Cloning https://github.com/karllark/dust_extinction.git to /tmp/pip-req-build-zehj777a\n",
            "  Running command git clone -q https://github.com/karllark/dust_extinction.git /tmp/pip-req-build-zehj777a\n",
            "  Installing build dependencies ... \u001b[?25l\u001b[?25hdone\n",
            "  Getting requirements to build wheel ... \u001b[?25l\u001b[?25hdone\n",
            "    Preparing wheel metadata ... \u001b[?25l\u001b[?25hdone\n",
            "Requirement already satisfied: scipy in /usr/local/lib/python3.7/dist-packages (from dust-extinction==1.1.dev8+ga13c2a4) (1.4.1)\n",
            "Requirement already satisfied: astropy in /usr/local/lib/python3.7/dist-packages (from dust-extinction==1.1.dev8+ga13c2a4) (4.3.1)\n",
            "Requirement already satisfied: numpy>=1.17 in /usr/local/lib/python3.7/dist-packages (from astropy->dust-extinction==1.1.dev8+ga13c2a4) (1.19.5)\n",
            "Requirement already satisfied: importlib-metadata in /usr/local/lib/python3.7/dist-packages (from astropy->dust-extinction==1.1.dev8+ga13c2a4) (4.8.2)\n",
            "Requirement already satisfied: pyerfa>=1.7.3 in /usr/local/lib/python3.7/dist-packages (from astropy->dust-extinction==1.1.dev8+ga13c2a4) (2.0.0.1)\n",
            "Requirement already satisfied: zipp>=0.5 in /usr/local/lib/python3.7/dist-packages (from importlib-metadata->astropy->dust-extinction==1.1.dev8+ga13c2a4) (3.6.0)\n",
            "Requirement already satisfied: typing-extensions>=3.6.4 in /usr/local/lib/python3.7/dist-packages (from importlib-metadata->astropy->dust-extinction==1.1.dev8+ga13c2a4) (4.0.0)\n",
            "Building wheels for collected packages: dust-extinction\n",
            "  Building wheel for dust-extinction (PEP 517) ... \u001b[?25l\u001b[?25hdone\n",
            "  Created wheel for dust-extinction: filename=dust_extinction-1.1.dev8+ga13c2a4-py3-none-any.whl size=425077 sha256=d05f23f7ce052251d729597053bc28341fd913304cdf50fd158ff02020234894\n",
            "  Stored in directory: /tmp/pip-ephem-wheel-cache-f62zljha/wheels/19/8e/ab/bd10dbae88daa1a75e08e945620b29f72ad22f2017787908b9\n",
            "Successfully built dust-extinction\n",
            "Installing collected packages: dust-extinction\n",
            "Successfully installed dust-extinction-1.1.dev8+ga13c2a4\n"
          ]
        }
      ]
    },
    {
      "cell_type": "markdown",
      "metadata": {
        "id": "16h_8O3pJ718"
      },
      "source": [
        "* Importamos la función que me permite corregir el flujo en cada longitud de onda debida al polvo para el valor de (E-V)_MW dado."
      ]
    },
    {
      "cell_type": "code",
      "metadata": {
        "id": "hl4MG42rzLg6"
      },
      "source": [
        "# Importamos el modelo para la ley de extinción de Cardelli, Clayton & Mathis (1989) con A_V = 1 y R_V = 3.1\n",
        "from dust_extinction.parameter_averages import CCM89\n",
        "from scipy.optimize import curve_fit\n",
        "\n",
        "# Cargamos la ley de extinción debido al polvo en la variable 'ext'.\n",
        "\n",
        "ext = CCM89(Rv=3.1)\n",
        "\n"
      ],
      "execution_count": 28,
      "outputs": []
    },
    {
      "cell_type": "markdown",
      "metadata": {
        "id": "IxzlD0R-KHj0"
      },
      "source": [
        "* En principio se debe calcular el flujo corregido, uflux, usando el exceso de color ebvmw que obtuvimos arriba. \n",
        "* Sin embargo, para la galaxia KISSR 298, la extinción debida al polvo en la Vía Láctea es muy pequeña. \n",
        "* Entonces, para ilustrar lo que sucede cuando la extinción es mayor, utilizaremos un valor más grande de E(B-V)."
      ]
    },
    {
      "cell_type": "code",
      "metadata": {
        "id": "xtnB676aKKaF"
      },
      "source": [
        "# Flujo corregido (unextinguished flux )\n",
        "ebvmw=0.2 # en vez de tomar el valor real (E(B-V)=0.017 mag), vamos a usar un valor más grande. Sino, es dificil ver el efecto del polvo en el espectro.\n",
        "uflux = flux / ext.extinguish(1/wave.to(u.micron), Ebv=ebvmw)"
      ],
      "execution_count": 29,
      "outputs": []
    },
    {
      "cell_type": "markdown",
      "metadata": {
        "id": "by4rrPejzLg6"
      },
      "source": [
        "* Graficamos el espectro antes y después de la corrección por enrojecimiento en la Vía Láctea. "
      ]
    },
    {
      "cell_type": "code",
      "metadata": {
        "id": "F3Xe1pIIzLg7",
        "colab": {
          "base_uri": "https://localhost:8080/",
          "height": 518
        },
        "outputId": "c3bb5596-e661-43a0-c14f-774121bdf35c"
      },
      "source": [
        "f, ax = plt.subplots(figsize = (8, 8))  \n",
        "\n",
        "ax.step(spec.spectral_axis, spec.flux, label='Con polvo')\n",
        "ax.plot(wave,uflux, label='Sin polvo')\n",
        "plt.xlabel('Longitud de onda ({})'.format(spec.spectral_axis.unit), fontsize = 16) \n",
        "plt.ylabel('Flujo ({})'.format(spec.flux.unit), fontsize = 16)\n",
        "plt.ylim(0,0.6e-15)\n",
        "plt.xticks(fontsize = 16)\n",
        "plt.yticks(fontsize = 16)\n",
        "plt.legend(loc = 'best');"
      ],
      "execution_count": 30,
      "outputs": [
        {
          "output_type": "display_data",
          "data": {
            "image/png": "[encoded data removed]",
            "text/plain": [
              "<Figure size 576x576 with 1 Axes>"
            ]
          },
          "metadata": {
            "needs_background": "light"
          }
        }
      ]
    },
    {
      "cell_type": "markdown",
      "metadata": {
        "id": "FXo6ki6mYV8J"
      },
      "source": [
        "* **¿Cuáles son las diferencias entre el espectro con y sin corrección por polvo en la Vía Láctea y por qué se dan estas diferencias?** "
      ]
    },
    {
      "cell_type": "markdown",
      "metadata": {
        "id": "u0x5Xpv5Yo2A"
      },
      "source": [
        "RESPUESTA:"
      ]
    },
    {
      "cell_type": "markdown",
      "metadata": {
        "id": "wvFhBuTnzLg7"
      },
      "source": [
        "# Corrección por corrimiento al rojo (redshift, z) de la galaxia.\n",
        "* La galaxia se está alejando radialmente del observador por lo que su espectro observado está corrido al rojo.\n",
        "* Vamos entonces a corregir el espectro por corrimiento al rojo."
      ]
    },
    {
      "cell_type": "markdown",
      "metadata": {
        "id": "SalIYDQLOVjW"
      },
      "source": [
        "## Método manual de búsqueda del valor de z en internet.\n",
        "* Algunos catálogos de objetos astronómicos disponibles en línea incluyen el redshift medido por otros o un algoritmo automático del redshift del objeto.\n",
        "* **Busca el corrimiento al rojo de la galaxia usando la base de datos de NED:** https://ned.ipac.caltech.edu/ \n",
        "* Para esto: introduce el nombre del objeto y ve a la pestaña de \"redshift\".\n",
        "* **Asigna el corrimiento al rojo que encontraste a la variable z_manual, abajo.**"
      ]
    },
    {
      "cell_type": "markdown",
      "metadata": {
        "id": "jVpQTEyczLg7"
      },
      "source": [
        "INSTRUCCIONES. \n",
        "\n",
        "\n",
        "\n",
        "\n"
      ]
    },
    {
      "cell_type": "code",
      "metadata": {
        "id": "YXkm6pb6zLg7"
      },
      "source": [
        "z_manual = 0 #Corrimiento al rojo encontrado manualmente"
      ],
      "execution_count": 31,
      "outputs": []
    },
    {
      "cell_type": "markdown",
      "metadata": {
        "id": "7rp80aUxN37Y"
      },
      "source": [
        "# Método automático de obtener el corrimiento al rojo."
      ]
    },
    {
      "cell_type": "markdown",
      "metadata": {
        "id": "gHluFVFGR3rJ"
      },
      "source": [
        "* Usamos la base de dato de NED."
      ]
    },
    {
      "cell_type": "code",
      "metadata": {
        "id": "dP4jpu9NN8-o",
        "colab": {
          "base_uri": "https://localhost:8080/"
        },
        "outputId": "b24cb045-3d2e-4f18-e950-07c5354e0a1a"
      },
      "source": [
        "from astroquery.ned import Ned\n",
        "result_table = Ned.query_object(\"KISSR 298\")\n",
        "z = result_table['Redshift']\n",
        "print(z)"
      ],
      "execution_count": 32,
      "outputs": [
        {
          "output_type": "stream",
          "name": "stderr",
          "text": [
            "/usr/local/lib/python3.7/dist-packages/ipykernel_launcher.py:1: DeprecationWarning: the ``ned`` module has been moved to astroquery.ipac.ned, please update your imports.\n",
            "  \"\"\"Entry point for launching an IPython kernel.\n"
          ]
        },
        {
          "output_type": "stream",
          "name": "stdout",
          "text": [
            " Redshift \n",
            "----------\n",
            "  0.048977\n"
          ]
        }
      ]
    },
    {
      "cell_type": "markdown",
      "metadata": {
        "id": "cMwQOSoEOeVL"
      },
      "source": [
        "* Corregimos el vector de longitudes de onda por corrmiento al rojo."
      ]
    },
    {
      "cell_type": "code",
      "metadata": {
        "id": "22zWUsYGzLg9"
      },
      "source": [
        "wave_rest = wave / (1 + z)"
      ],
      "execution_count": 33,
      "outputs": []
    },
    {
      "cell_type": "markdown",
      "metadata": {
        "id": "h0MJUQiszLg9"
      },
      "source": [
        "* Graficamos el espectro antes y después de la corrección por corrimiento al rojo."
      ]
    },
    {
      "cell_type": "code",
      "metadata": {
        "id": "_6mgjfAMzLg9",
        "colab": {
          "base_uri": "https://localhost:8080/",
          "height": 518
        },
        "outputId": "794da5ee-e6b3-47b1-e9d9-de4e0190b4ea"
      },
      "source": [
        "f, ax = plt.subplots(figsize = (8, 8))  \n",
        "\n",
        "ax.plot(wave, uflux, label=\"Corrido al rojo\")\n",
        "ax.plot(wave_rest, uflux, label=\"Corregido\")\n",
        "plt.xlabel('Longitud de onda ({})'.format(spec.spectral_axis.unit), fontsize = 16) \n",
        "plt.ylabel('Flujo ({})'.format(spec.flux.unit), fontsize = 16)\n",
        "plt.xticks(fontsize = 16)\n",
        "plt.yticks(fontsize = 16)\n",
        "plt.legend(prop = {'size': 16});"
      ],
      "execution_count": 34,
      "outputs": [
        {
          "output_type": "display_data",
          "data": {
            "image/png": "[encoded data removed]",
            "text/plain": [
              "<Figure size 576x576 with 1 Axes>"
            ]
          },
          "metadata": {
            "needs_background": "light"
          }
        }
      ]
    },
    {
      "cell_type": "markdown",
      "metadata": {
        "id": "-3FXlFDrSHJa"
      },
      "source": [
        "* ¿Por qué está corrida al rojo la galaxia?"
      ]
    },
    {
      "cell_type": "markdown",
      "metadata": {
        "id": "kMM29P3MSNbR"
      },
      "source": [
        "# Medición de líneas espectrales y determinación del redshift.\n",
        "* Para encontrar el corrimiento al rojo de un espectro, se pueden medir líneas de emisión conocidas y comparar su longitud de onda observada con la esperada si la fuente estuviera en reposo.\n",
        "* Para obtener una lista de longitudes de onda ópticas y ultravioleta en reposo de líneas espectrales comunes en espectros de SDSS ir a: http://classic.sdss.org/dr6/algorithms/linestable.html\n",
        "* Para obtener flujos de líneas de emisión, primero debe restar el continuo excluyendo las regiones espectrales con líneas espectrales (en emisión o absorción). En el siguiente ejemplo, ajusto una región que está definida por intervalos de longitud de onda centrados alrededor de las longitudes de onda x0 y x1, que evitan las líneas espectrales. El codigo es:"
      ]
    },
    {
      "cell_type": "code",
      "metadata": {
        "id": "jfXtfW3nhvZl",
        "colab": {
          "base_uri": "https://localhost:8080/",
          "height": 308
        },
        "outputId": "4ef062d6-0fde-412a-e87d-0bf33ba8ef59"
      },
      "source": [
        "# Cargo paquetes necesarios\n",
        "from specutils import SpectralRegion\n",
        "from specutils.fitting import estimate_line_parameters\n",
        "from specutils.manipulation import extract_region\n",
        "\n",
        "# Vamos a usar la línea de emisión de Hbeta para determinar el redshift.\n",
        "# La longitud de onda de Hbeta corrida al rojo es = 4861.325*(1+z).\n",
        "xhb_redshifted = 4861.325*(1+z) *u.AA\n",
        "dx1=150 *u.AA \n",
        "dx2=150 *u.AA\n",
        "# Extraigo la región del espectro que abarca desde 150 Ang. a la izq. de Hbeta \n",
        "# hasta 150 Ang. a la derecha de Hbeta.\n",
        "sub_region = SpectralRegion((xhb_redshifted-dx1), (xhb_redshifted+dx2))\n",
        "sub_spec= extract_region(spec, sub_region)\n",
        "# Grafico el resultado\n",
        "f, ax = plt.subplots()  \n",
        "ax.step(sub_spec.spectral_axis, sub_spec.flux)\n",
        "plt.xlabel('Rest Wavelength ({})'.format(spec.spectral_axis.unit)) \n",
        "plt.ylabel('Flux ({})'.format(spec.flux.unit))"
      ],
      "execution_count": 37,
      "outputs": [
        {
          "output_type": "execute_result",
          "data": {
            "text/plain": [
              "Text(0, 0.5, 'Flux (erg / (Angstrom cm2 s))')"
            ]
          },
          "metadata": {},
          "execution_count": 37
        },
        {
          "output_type": "display_data",
          "data": {
            "image/png": "[encoded data removed]",
            "text/plain": [
              "<Figure size 432x288 with 1 Axes>"
            ]
          },
          "metadata": {
            "needs_background": "light"
          }
        }
      ]
    },
    {
      "cell_type": "code",
      "metadata": {
        "id": "JrvPo3T6iJ6a",
        "colab": {
          "base_uri": "https://localhost:8080/",
          "height": 327
        },
        "outputId": "acc002c6-265f-42ae-faa2-82f3e59abd80"
      },
      "source": [
        "from specutils import SpectralRegion\n",
        "from specutils.fitting import estimate_line_parameters\n",
        "from specutils.manipulation import extract_region\n",
        "# Ahora vamos a ajustar el continuo cerca de Hbeta.\n",
        "# Para esto, hay evitar la región más cercana a Hbeta y que contiene a Hbeta.\n",
        "xhb_redshifted = 4861.325*(1+z) *u.AA\n",
        "dx = 25*u.AA\n",
        "sub_region = SpectralRegion(xhb_redshifted-dx, xhb_redshifted+dx)\n",
        "sub_spec = extract_region(spec, sub_region)\n",
        "\n",
        "f, ax = plt.subplots()  \n",
        "ax.step(sub_spec.spectral_axis, sub_spec.flux)\n",
        "plt.xlabel('Rest Wavelength ({})'.format(spec.spectral_axis.unit)) \n",
        "plt.ylabel('Flux ({})'.format(spec.flux.unit))\n",
        "\n",
        "# Realizo la sustracción del continuo y grafico.\n",
        "from specutils.fitting import fit_generic_continuum\n",
        "yfit=fit_generic_continuum(sub_spec,\n",
        "                              exclude_regions=\n",
        "                           [SpectralRegion(xhb_redshifted-5*u.AA, xhb_redshifted+5*u.AA)])(sub_spec.spectral_axis)\n",
        "\n",
        "ax.step(sub_spec.spectral_axis, sub_spec.flux-yfit)"
      ],
      "execution_count": 38,
      "outputs": [
        {
          "output_type": "stream",
          "name": "stderr",
          "text": [
            "WARNING: Model is linear in parameters; consider using linear fitting methods. [astropy.modeling.fitting]\n"
          ]
        },
        {
          "output_type": "execute_result",
          "data": {
            "text/plain": [
              "[<matplotlib.lines.Line2D at 0x7fd284d11a90>]"
            ]
          },
          "metadata": {},
          "execution_count": 38
        },
        {
          "output_type": "display_data",
          "data": {
            "image/png": "[encoded data removed]",
            "text/plain": [
              "<Figure size 432x288 with 1 Axes>"
            ]
          },
          "metadata": {
            "needs_background": "light"
          }
        }
      ]
    },
    {
      "cell_type": "code",
      "metadata": {
        "id": "a8IbqPZBSQsb",
        "colab": {
          "base_uri": "https://localhost:8080/"
        },
        "outputId": "240bf6bb-5d70-4768-c107-5e24098e4d84"
      },
      "source": [
        "from specutils import Spectrum1D\n",
        "# Cargo el espectro con el continuo sustraido.\n",
        "spec_cont_sub = Spectrum1D(spectral_axis=sub_spec.spectral_axis, flux=sub_spec.flux-yfit)\n",
        "\n",
        "# Cargo el paquete necesario para medir propiedades de líneas.\n",
        "from astropy.modeling import models\n",
        "\n",
        "# Defino la región espectral dentro de la cual hay líneas que medir.\n",
        "sub_region = SpectralRegion(5080*u.AA, 5120*u.AA)\n",
        "sub_spec = extract_region(spec_cont_sub, sub_region)\n",
        "print(estimate_line_parameters(sub_spec, models.Gaussian1D()))\n"
      ],
      "execution_count": 40,
      "outputs": [
        {
          "output_type": "stream",
          "name": "stdout",
          "text": [
            "Model: Gaussian1D\n",
            "Inputs: ('x',)\n",
            "Outputs: ('y',)\n",
            "Model set size: 1\n",
            "Parameters:\n",
            "          amplitude               mean        stddev \n",
            "    erg / (Angstrom cm2 s)      Angstrom     Angstrom\n",
            "    ---------------------- ----------------- --------\n",
            "     5.741018795532815e-16 5100.591942112429      nan\n"
          ]
        }
      ]
    },
    {
      "cell_type": "code",
      "metadata": {
        "colab": {
          "base_uri": "https://localhost:8080/"
        },
        "id": "rvXlwQGdpFGa",
        "outputId": "25421b7c-adc2-461e-a4da-6fd7b7886f8c"
      },
      "source": [
        "#Determino el redshift medido.\n",
        "z_medido = (5100.59 - 4861.325)/4861.325\n",
        "\n",
        "print('z_medido =', z_medido)"
      ],
      "execution_count": 46,
      "outputs": [
        {
          "output_type": "stream",
          "name": "stdout",
          "text": [
            "z_medido = 0.049218062976657664\n"
          ]
        }
      ]
    },
    {
      "cell_type": "markdown",
      "metadata": {
        "id": "OQFl_JdTpebB"
      },
      "source": [
        "**¿Cómo se compara el redshift medido con el encontrado en internet?**"
      ]
    }
  ]
}