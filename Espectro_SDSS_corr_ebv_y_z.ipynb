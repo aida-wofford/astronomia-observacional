{
  "nbformat": 4,
  "nbformat_minor": 0,
  "metadata": {
    "kernelspec": {
      "display_name": "Python 3",
      "language": "python",
      "name": "python3"
    },
    "language_info": {
      "codemirror_mode": {
        "name": "ipython",
        "version": 3
      },
      "file_extension": ".py",
      "mimetype": "text/x-python",
      "name": "python",
      "nbconvert_exporter": "python",
      "pygments_lexer": "ipython3",
      "version": "3.8.3"
    },
    "colab": {
      "provenance": [],
      "include_colab_link": true
    }
  },
  "cells": [
    {
      "cell_type": "markdown",
      "metadata": {
        "id": "view-in-github",
        "colab_type": "text"
      },
      "source": [
        "<a href=\"https://colab.research.google.com/github/aida-wofford/astronomia-observacional/blob/main/Espectro_SDSS_corr_ebv_y_z.ipynb\" target=\"_parent\"><img src=\"https://colab.research.google.com/assets/colab-badge.svg\" alt=\"Open In Colab\"/></a>"
      ]
    },
    {
      "cell_type": "markdown",
      "metadata": {
        "id": "fjSAgr487MYO"
      },
      "source": [
        "# Detalles sobre este notebook de python."
      ]
    },
    {
      "cell_type": "code",
      "metadata": {
        "id": "RRkvakk_5Vov"
      },
      "source": [
        "__author__ = 'Aida Nava de Wofford <awofford@astro.unam.mx>, Sundar Srinivasan <s.srinivasan@irya.unam.mx>'\n",
        "__version__ = '20221124'\n",
        "__datasets__ = ['SDSS']  # datos usados en este notebook\n",
        "__keywords__ = ['Taller UACJ 2021', 'SDSS', 'espectro'], # palabras clave relevantes a este notebook"
      ],
      "execution_count": null,
      "outputs": []
    },
    {
      "cell_type": "markdown",
      "metadata": {
        "id": "7qTkYkpQMZqL"
      },
      "source": [
        "# Saltarse este paso salvo si es necesario. Instalación de versiones necesarias de dependencias."
      ]
    },
    {
      "cell_type": "markdown",
      "source": [
        "### Definiciones de [JSON](https://www.w3schools.com/js/js_json_intro.asp) y [JSON SHEMA](https://json-schema.org/). No hace falta que entiendas esto pero lo dejo por si te interesa saber más."
      ],
      "metadata": {
        "id": "pNhkK3cIukk8"
      }
    },
    {
      "cell_type": "code",
      "source": [
        "!pip install --force-reinstall jsonschema==4.9.0"
      ],
      "metadata": {
        "id": "I8xgVLgYuFJ3",
        "outputId": "2f1bdcd4-aa09-49e2-94f8-36de2617f89f",
        "colab": {
          "base_uri": "https://localhost:8080/",
          "height": 1000
        }
      },
      "execution_count": null,
      "outputs": [
        {
          "output_type": "stream",
          "name": "stdout",
          "text": [
            "Looking in indexes: https://pypi.org/simple, https://us-python.pkg.dev/colab-wheels/public/simple/\n",
            "Collecting jsonschema==4.9.0\n",
            "  Downloading jsonschema-4.9.0-py3-none-any.whl (79 kB)\n",
            "\u001b[K     |████████████████████████████████| 79 kB 4.6 MB/s \n",
            "\u001b[?25hCollecting typing-extensions\n",
            "  Using cached typing_extensions-4.4.0-py3-none-any.whl (26 kB)\n",
            "Collecting pyrsistent!=0.17.0,!=0.17.1,!=0.17.2,>=0.14.0\n",
            "  Using cached pyrsistent-0.19.2-py3-none-any.whl (57 kB)\n",
            "Collecting pkgutil-resolve-name>=1.3.10\n",
            "  Using cached pkgutil_resolve_name-1.3.10-py3-none-any.whl (4.7 kB)\n",
            "Collecting importlib-resources>=1.4.0\n",
            "  Using cached importlib_resources-5.10.0-py3-none-any.whl (34 kB)\n",
            "Collecting importlib-metadata\n",
            "  Using cached importlib_metadata-5.1.0-py3-none-any.whl (21 kB)\n",
            "Collecting attrs>=17.4.0\n",
            "  Using cached attrs-22.1.0-py2.py3-none-any.whl (58 kB)\n",
            "Collecting zipp>=3.1.0\n",
            "  Using cached zipp-3.10.0-py3-none-any.whl (6.2 kB)\n",
            "Installing collected packages: zipp, typing-extensions, pyrsistent, pkgutil-resolve-name, importlib-resources, importlib-metadata, attrs, jsonschema\n",
            "  Attempting uninstall: zipp\n",
            "    Found existing installation: zipp 3.10.0\n",
            "    Uninstalling zipp-3.10.0:\n",
            "      Successfully uninstalled zipp-3.10.0\n",
            "  Attempting uninstall: typing-extensions\n",
            "    Found existing installation: typing-extensions 4.4.0\n",
            "    Uninstalling typing-extensions-4.4.0:\n",
            "      Successfully uninstalled typing-extensions-4.4.0\n",
            "  Attempting uninstall: pyrsistent\n",
            "    Found existing installation: pyrsistent 0.19.2\n",
            "    Uninstalling pyrsistent-0.19.2:\n",
            "      Successfully uninstalled pyrsistent-0.19.2\n",
            "  Attempting uninstall: pkgutil-resolve-name\n",
            "    Found existing installation: pkgutil-resolve-name 1.3.10\n",
            "    Uninstalling pkgutil-resolve-name-1.3.10:\n",
            "      Successfully uninstalled pkgutil-resolve-name-1.3.10\n",
            "  Attempting uninstall: importlib-resources\n",
            "    Found existing installation: importlib-resources 5.10.0\n",
            "    Uninstalling importlib-resources-5.10.0:\n",
            "      Successfully uninstalled importlib-resources-5.10.0\n",
            "  Attempting uninstall: importlib-metadata\n",
            "    Found existing installation: importlib-metadata 5.1.0\n",
            "    Uninstalling importlib-metadata-5.1.0:\n",
            "      Successfully uninstalled importlib-metadata-5.1.0\n",
            "  Attempting uninstall: attrs\n",
            "    Found existing installation: attrs 22.1.0\n",
            "    Uninstalling attrs-22.1.0:\n",
            "      Successfully uninstalled attrs-22.1.0\n",
            "  Attempting uninstall: jsonschema\n",
            "    Found existing installation: jsonschema 4.10.0\n",
            "    Uninstalling jsonschema-4.10.0:\n",
            "      Successfully uninstalled jsonschema-4.10.0\n",
            "\u001b[31mERROR: pip's dependency resolver does not currently take into account all the packages that are installed. This behaviour is the source of the following dependency conflicts.\n",
            "thinc 8.1.5 requires typing-extensions<4.2.0,>=3.7.4.1; python_version < \"3.8\", but you have typing-extensions 4.4.0 which is incompatible.\n",
            "spacy 3.4.3 requires typing-extensions<4.2.0,>=3.7.4; python_version < \"3.8\", but you have typing-extensions 4.4.0 which is incompatible.\n",
            "confection 0.0.3 requires typing-extensions<4.2.0,>=3.7.4.1; python_version < \"3.8\", but you have typing-extensions 4.4.0 which is incompatible.\u001b[0m\n",
            "Successfully installed attrs-22.1.0 importlib-metadata-5.1.0 importlib-resources-5.10.0 jsonschema-4.9.0 pkgutil-resolve-name-1.3.10 pyrsistent-0.19.2 typing-extensions-4.4.0 zipp-3.10.0\n"
          ]
        },
        {
          "output_type": "display_data",
          "data": {
            "application/vnd.colab-display-data+json": {
              "pip_warning": {
                "packages": [
                  "importlib_metadata",
                  "zipp"
                ]
              }
            }
          },
          "metadata": {}
        }
      ]
    },
    {
      "cell_type": "code",
      "metadata": {
        "id": "GcHwwe7vLwyA",
        "colab": {
          "base_uri": "https://localhost:8080/",
          "height": 1000
        },
        "outputId": "fecb95cc-8d96-4b11-d8e6-dabda7241727"
      },
      "source": [
        "!pip install --force-reinstall jsonschema==3.2.0"
      ],
      "execution_count": null,
      "outputs": [
        {
          "output_type": "stream",
          "name": "stdout",
          "text": [
            "Looking in indexes: https://pypi.org/simple, https://us-python.pkg.dev/colab-wheels/public/simple/\n",
            "Collecting jsonschema==3.2.0\n",
            "  Downloading jsonschema-3.2.0-py2.py3-none-any.whl (56 kB)\n",
            "\u001b[K     |████████████████████████████████| 56 kB 604 kB/s \n",
            "\u001b[?25hCollecting pyrsistent>=0.14.0\n",
            "  Downloading pyrsistent-0.19.2-py3-none-any.whl (57 kB)\n",
            "\u001b[K     |████████████████████████████████| 57 kB 2.1 MB/s \n",
            "\u001b[?25hCollecting six>=1.11.0\n",
            "  Downloading six-1.16.0-py2.py3-none-any.whl (11 kB)\n",
            "Collecting attrs>=17.4.0\n",
            "  Downloading attrs-22.1.0-py2.py3-none-any.whl (58 kB)\n",
            "\u001b[K     |████████████████████████████████| 58 kB 1.2 MB/s \n",
            "\u001b[?25hCollecting setuptools\n",
            "  Downloading setuptools-65.6.3-py3-none-any.whl (1.2 MB)\n",
            "\u001b[K     |████████████████████████████████| 1.2 MB 13.2 MB/s \n",
            "\u001b[?25hCollecting importlib-metadata\n",
            "  Downloading importlib_metadata-5.1.0-py3-none-any.whl (21 kB)\n",
            "Collecting typing-extensions>=3.6.4\n",
            "  Downloading typing_extensions-4.4.0-py3-none-any.whl (26 kB)\n",
            "Collecting zipp>=0.5\n",
            "  Downloading zipp-3.10.0-py3-none-any.whl (6.2 kB)\n",
            "Installing collected packages: zipp, typing-extensions, six, setuptools, pyrsistent, importlib-metadata, attrs, jsonschema\n",
            "  Attempting uninstall: zipp\n",
            "    Found existing installation: zipp 3.10.0\n",
            "    Uninstalling zipp-3.10.0:\n",
            "      Successfully uninstalled zipp-3.10.0\n",
            "  Attempting uninstall: typing-extensions\n",
            "    Found existing installation: typing-extensions 4.1.1\n",
            "    Uninstalling typing-extensions-4.1.1:\n",
            "      Successfully uninstalled typing-extensions-4.1.1\n",
            "  Attempting uninstall: six\n",
            "    Found existing installation: six 1.15.0\n",
            "    Uninstalling six-1.15.0:\n",
            "      Successfully uninstalled six-1.15.0\n",
            "  Attempting uninstall: setuptools\n",
            "    Found existing installation: setuptools 57.4.0\n",
            "    Uninstalling setuptools-57.4.0:\n",
            "      Successfully uninstalled setuptools-57.4.0\n",
            "  Attempting uninstall: pyrsistent\n",
            "    Found existing installation: pyrsistent 0.19.2\n",
            "    Uninstalling pyrsistent-0.19.2:\n",
            "      Successfully uninstalled pyrsistent-0.19.2\n",
            "  Attempting uninstall: importlib-metadata\n",
            "    Found existing installation: importlib-metadata 4.13.0\n",
            "    Uninstalling importlib-metadata-4.13.0:\n",
            "      Successfully uninstalled importlib-metadata-4.13.0\n",
            "  Attempting uninstall: attrs\n",
            "    Found existing installation: attrs 22.1.0\n",
            "    Uninstalling attrs-22.1.0:\n",
            "      Successfully uninstalled attrs-22.1.0\n",
            "  Attempting uninstall: jsonschema\n",
            "    Found existing installation: jsonschema 4.3.3\n",
            "    Uninstalling jsonschema-4.3.3:\n",
            "      Successfully uninstalled jsonschema-4.3.3\n",
            "\u001b[31mERROR: pip's dependency resolver does not currently take into account all the packages that are installed. This behaviour is the source of the following dependency conflicts.\n",
            "ipython 7.9.0 requires jedi>=0.10, which is not installed.\n",
            "thinc 8.1.5 requires typing-extensions<4.2.0,>=3.7.4.1; python_version < \"3.8\", but you have typing-extensions 4.4.0 which is incompatible.\n",
            "spacy 3.4.3 requires typing-extensions<4.2.0,>=3.7.4; python_version < \"3.8\", but you have typing-extensions 4.4.0 which is incompatible.\n",
            "confection 0.0.3 requires typing-extensions<4.2.0,>=3.7.4.1; python_version < \"3.8\", but you have typing-extensions 4.4.0 which is incompatible.\u001b[0m\n",
            "Successfully installed attrs-22.1.0 importlib-metadata-5.1.0 jsonschema-3.2.0 pyrsistent-0.19.2 setuptools-65.6.3 six-1.16.0 typing-extensions-4.4.0 zipp-3.10.0\n"
          ]
        },
        {
          "output_type": "display_data",
          "data": {
            "application/vnd.colab-display-data+json": {
              "pip_warning": {
                "packages": [
                  "pkg_resources",
                  "six"
                ]
              }
            }
          },
          "metadata": {}
        }
      ]
    },
    {
      "cell_type": "markdown",
      "metadata": {
        "id": "mr-3_ne4MjRR"
      },
      "source": [
        "# Saltarse este paso si no se realizó el paso anterior. Dar click \"RESTART RUNTIME\" arriba y proseguir con la práctica."
      ]
    },
    {
      "cell_type": "markdown",
      "metadata": {
        "id": "pv48E0PpzLgp"
      },
      "source": [
        "# Objetivos de la práctica \"Análisis del Espectro Óptico de la Galaxia KISSR 298.\"\n",
        "\n",
        "\n",
        "* Exploraremos métodos manuales y automatizados de obtener los parámetros necesarios para bajar el espectro de una galaxia de una base de datos.  \n",
        "* Bajaremos el espectro.\n",
        "* Haremos correccione por enrojecimiento debido al polvo en la Vía Láctea y por corrimiento al rojo al espectro. "
      ]
    },
    {
      "cell_type": "markdown",
      "metadata": {
        "id": "WrSBpbptFDWP"
      },
      "source": [
        "# Análisis del Espectro Óptico de la Galaxia KISSR 298."
      ]
    },
    {
      "cell_type": "markdown",
      "metadata": {
        "id": "Y9r0KZ_c7Ok1"
      },
      "source": [
        "Importamos algunos de los módulos de python necesarios, en este caso numpy y \"SDSS\" de la biblioteca de astroquery."
      ]
    },
    {
      "cell_type": "markdown",
      "metadata": {
        "id": "GByFTyy57SN2"
      },
      "source": [
        "* \"numpy\" es un módulo de Python que se utiliza para trabajar con matrices.También tiene funciones para trabajar en el dominio del álgebra lineal, la transformada de Fourier y las matrices.\n",
        "* \"astroquery\" es un conjunto de herramientas para consultar bases de datos y formularios web astronómicos.\n"
      ]
    },
    {
      "cell_type": "code",
      "metadata": {
        "id": "EFawGX0h5wna"
      },
      "source": [
        "import warnings, numpy as np\n",
        "warnings.filterwarnings(\"ignore\", category = np.VisibleDeprecationWarning)\n",
        "warnings.filterwarnings(\"ignore\", category = RuntimeWarning)\n",
        "try:\n",
        "  from astroquery.sdss import SDSS\n",
        "except:\n",
        "  !pip install astroquery\n",
        "  from astroquery.sdss import SDSS"
      ],
      "execution_count": null,
      "outputs": []
    },
    {
      "cell_type": "markdown",
      "metadata": {
        "id": "DvozVa_-rzTc"
      },
      "source": [
        "## Método Manual de obtención de las coordenadas del objeto."
      ]
    },
    {
      "cell_type": "markdown",
      "metadata": {
        "id": "53L9l7TmzLgq"
      },
      "source": [
        "Para poder bajar el espectro de KISSR 298 de la base de datos, necesitamos sus coordenadas (RA, Dec) o (longitude, latitude) en el sistema de referencia Equatorial (J2000.0). "
      ]
    },
    {
      "cell_type": "markdown",
      "metadata": {
        "id": "vRWYCoKzr97b"
      },
      "source": [
        "INSTRUCCIONES. \n",
        "\n",
        "* Encuentra las coordenadas buscando al objeto por su nombre en la  base de datos de NED:\n",
        "https://ned.ipac.caltech.edu/.\n",
        "\n",
        "* Asigna a las variables de abajo las coordenadas del objecto que encontraste.\n",
        "\n"
      ]
    },
    {
      "cell_type": "code",
      "metadata": {
        "id": "kHMIAzpqzLgr"
      },
      "source": [
        "RA_manual=0 # longitude in Equatorial J2000\n",
        "Dec_manual=0 # latitude in Equatorial J2000"
      ],
      "execution_count": null,
      "outputs": []
    },
    {
      "cell_type": "markdown",
      "metadata": {
        "id": "lq2cWcXp_szm"
      },
      "source": [
        "Los métodos manuales tienen la desventaja de que uno comete errores al teclear. Aprendamos entonces a usar el método automático."
      ]
    },
    {
      "cell_type": "markdown",
      "metadata": {
        "id": "qnhlcxdrtZQ2"
      },
      "source": [
        "## Método manual de obtención de los IDs de la placa, fecha de observación y fibra."
      ]
    },
    {
      "cell_type": "markdown",
      "metadata": {
        "id": "6cctV-0QzLgs"
      },
      "source": [
        "Para bajar el espectro de KISSR 298 la base de datos, necesitamos los IDs de la placa, la fecha y la fibra con que se usaron para obtener los datos. "
      ]
    },
    {
      "cell_type": "markdown",
      "metadata": {
        "id": "jRQ4ULMBt58X"
      },
      "source": [
        "INSTRUCCIONES. \n",
        "\n",
        "*   Busca el objecto usando las coordenadas en: https://skyserver.sdss.org/dr14/en/tools/chart/chartinfo.aspx. \n",
        "*   Dále a \"Get Image\" para ver la imagen del objeto. Puedes cambiar el tamaño de la imagen con los botones de \"+\" y \"-\".\n",
        "* Haz click en \"Explore\" para ir a donde se encuentra el espectro. \n",
        "* Abajo a la derecha, en donde dice \"Interactive Spectrum\", hay una tabla con información sobre las observaciones del objeto. \n",
        "* Asigna a las variables de abajo las coordenadas del objecto que encontraste.\n",
        "\n",
        "\n",
        "\n"
      ]
    },
    {
      "cell_type": "code",
      "metadata": {
        "id": "An2dPH5czLgu"
      },
      "source": [
        "plate_manual=0 # plate\n",
        "mjd_manual=0 # modified Julian date\n",
        "fiberid_manual=0 # fiberid"
      ],
      "execution_count": null,
      "outputs": []
    },
    {
      "cell_type": "markdown",
      "metadata": {
        "id": "JVtVpw6gEAth"
      },
      "source": [
        "Armamos el nombre del camino que lleva al espectro."
      ]
    },
    {
      "cell_type": "code",
      "metadata": {
        "id": "IzhKqwDhEH3h",
        "colab": {
          "base_uri": "https://localhost:8080/"
        },
        "outputId": "67ad32dc-6603-43b3-a25a-5739076455f1"
      },
      "source": [
        "archivo_con_espectro_man = 'https://dr14.sdss.org/optical/spectrum/view/data/format=fits/spec=lite?plateid='+str(plate_manual)+'&mjd='+str(mjd_manual)+'&fiberid='+str(fiberid_manual)\n",
        "print(archivo_con_espectro_man)"
      ],
      "execution_count": null,
      "outputs": [
        {
          "output_type": "stream",
          "name": "stdout",
          "text": [
            "https://dr14.sdss.org/optical/spectrum/view/data/format=fits/spec=lite?plateid=1978&mjd=53473&fiberid=371\n"
          ]
        }
      ]
    },
    {
      "cell_type": "markdown",
      "metadata": {
        "id": "G6GK2GhNa4Vs"
      },
      "source": [
        "## Método automático de obtención de las coordenadas del objeto."
      ]
    },
    {
      "cell_type": "markdown",
      "metadata": {
        "id": "DBeGYhM2wwci"
      },
      "source": [
        "Importamos el módulo necesario para bajar las coordenadas."
      ]
    },
    {
      "cell_type": "code",
      "metadata": {
        "id": "IpRpUZLgwvHp"
      },
      "source": [
        "from astropy import coordinates as coords"
      ],
      "execution_count": null,
      "outputs": []
    },
    {
      "cell_type": "markdown",
      "metadata": {
        "id": "g3WEFDQCAzh6"
      },
      "source": [
        "* Las bases de datos astronómicas tienen un servicio de \"busqueda por nombre\".\n",
        "\n",
        "* Utilizaremos el módulo `coords` para buscar de manera automática las coordenadas a partir del nombre del objeto.\n",
        "\n",
        "* SkyCoord consulta la base de datos CDS (http://cdsweb.u-strasbg.fr/) para encontrar las coordenadas del objeto."
      ]
    },
    {
      "cell_type": "code",
      "metadata": {
        "colab": {
          "base_uri": "https://localhost:8080/"
        },
        "id": "wYUzsRN4AqZY",
        "outputId": "fd64285b-b117-4987-f3a8-36b58fa1fe33"
      },
      "source": [
        "pos = coords.SkyCoord.from_name(\"KISSR 298\") #pos variable para la posición del objeto.\n",
        "print(\"position: \", pos)"
      ],
      "execution_count": null,
      "outputs": [
        {
          "output_type": "stream",
          "name": "stdout",
          "text": [
            "position:  <SkyCoord (ICRS): (ra, dec) in deg\n",
            "    (202.45748947, 29.57968722)>\n"
          ]
        }
      ]
    },
    {
      "cell_type": "markdown",
      "metadata": {
        "id": "F4XlVHcTGDz5"
      },
      "source": [
        "## Método automático de obtención de los IDs de la placa, fecha y fibra."
      ]
    },
    {
      "cell_type": "markdown",
      "metadata": {
        "id": "ielmwafUCEk8"
      },
      "source": [
        "Una vez que tenemos las coordenadas del objeto, buscamos en la base de datos de SDSS (Sloan Digital Sky Survey) los IDs que indican la placa con que se tomó el espectro, la fecha de observación y la fibra correspondiente a la posición del objeto."
      ]
    },
    {
      "cell_type": "code",
      "metadata": {
        "id": "lmq8ejkZCD_c"
      },
      "source": [
        "tabla_sdss = SDSS.query_region(pos, spectro = True)\n",
        "plate = tabla_sdss[0][list(tabla_sdss.columns).index('plate')]\n",
        "mjd = tabla_sdss[0][list(tabla_sdss.columns).index('mjd')]\n",
        "fiberID = tabla_sdss[0][list(tabla_sdss.columns).index('fiberID')]"
      ],
      "execution_count": null,
      "outputs": []
    },
    {
      "cell_type": "markdown",
      "metadata": {
        "id": "oCvkvXifDLOg"
      },
      "source": [
        "Con estos parámetros podemos buscar el espectro."
      ]
    },
    {
      "cell_type": "code",
      "metadata": {
        "id": "RWzJNA-lDLee"
      },
      "source": [
        "sp = SDSS.get_spectra(matches = tabla_sdss, plate = plate, mjd = mjd, fiberID = fiberID)[0]"
      ],
      "execution_count": null,
      "outputs": []
    },
    {
      "cell_type": "markdown",
      "metadata": {
        "id": "RDHfWuM2DbMg"
      },
      "source": [
        "## El espectro está en el segundo encabezado del archivo (sp[1])\n"
      ]
    },
    {
      "cell_type": "code",
      "metadata": {
        "id": "7Sa2qTjHDcn2",
        "colab": {
          "base_uri": "https://localhost:8080/"
        },
        "outputId": "9f8e3dcc-f87c-45f1-9fff-d87cec2d3224"
      },
      "source": [
        "specdata = sp[1].data\n",
        "print(specdata)"
      ],
      "execution_count": null,
      "outputs": [
        {
          "output_type": "stream",
          "name": "stdout",
          "text": [
            "[(13.479021, 3.5816, 0.06797916, 0, 0, 1.1088611 , 9.002381, 13.217207)\n",
            " (19.215475, 3.5817, 0.06977836, 0, 0, 1.108475  , 9.212716, 13.737914)\n",
            " (14.267138, 3.5818, 0.07592517, 0, 0, 1.108091  , 9.300478, 13.168895)\n",
            " ...\n",
            " ( 8.162261, 3.9645, 0.35342726, 0, 0, 0.7729795 , 4.512267, 12.689797)\n",
            " (11.752623, 3.9646, 0.        , 0, 0, 0.77300555, 4.811207, 12.891481)\n",
            " (15.343176, 3.9647, 0.28280747, 0, 0, 0.77303153, 4.932665, 12.677738)]\n"
          ]
        }
      ]
    },
    {
      "cell_type": "markdown",
      "metadata": {
        "id": "ZJwkQEQHzLgy"
      },
      "source": [
        "Abrimos el archivo y construimos los vectores de longitudes de onda (wave),  flujos (flux), y de errores en los flujos (err)."
      ]
    },
    {
      "cell_type": "markdown",
      "metadata": {
        "id": "OPBgfsZKzLgv"
      },
      "source": [
        "Importamos el módulo necesario para guardar las unidades de longitud de onda y flujo."
      ]
    },
    {
      "cell_type": "code",
      "metadata": {
        "id": "fB_G7t6EzLgw"
      },
      "source": [
        "from astropy import units as u\n"
      ],
      "execution_count": null,
      "outputs": []
    },
    {
      "cell_type": "code",
      "metadata": {
        "id": "_LEnUBdMzLg1"
      },
      "source": [
        "wave = 10**specdata['loglam'] * u.AA # longitud de onda\n",
        "flux = specdata['flux'] * 10**-17 * u.Unit('erg cm-2 s-1 AA-1') # flujo\n",
        "#ivar = specdata['ivar']# inverso de la varianza\n",
        "#err = 1 / np.sqrt(ivar) # error * u.Unit('erg cm-2 s-1 AA-1') # error en el flujo"
      ],
      "execution_count": null,
      "outputs": []
    },
    {
      "cell_type": "markdown",
      "metadata": {
        "id": "6vkMW1dBJite"
      },
      "source": [
        "Importamos el módulo para graficar (matplotlib)."
      ]
    },
    {
      "cell_type": "code",
      "metadata": {
        "id": "g0XFHIiLJnKc"
      },
      "source": [
        "from matplotlib import pyplot as plt\n",
        "%matplotlib inline"
      ],
      "execution_count": null,
      "outputs": []
    },
    {
      "cell_type": "markdown",
      "metadata": {
        "id": "JNOVPEkEGaAz"
      },
      "source": [
        "# Método manual de poner unidades en los ejes de las gráficas."
      ]
    },
    {
      "cell_type": "markdown",
      "metadata": {
        "id": "KUHaBNVTod7d"
      },
      "source": [
        "Poner las unidades de los ejes de manera manual en las gráficas puede llevar a errores. ¿Qué errores notas en las unidades de los ejes de la gráfica de abajo (compara con la gráfica del método automático de más abajo)?"
      ]
    },
    {
      "cell_type": "code",
      "metadata": {
        "colab": {
          "base_uri": "https://localhost:8080/",
          "height": 544
        },
        "id": "FV7tE6VczLg3",
        "outputId": "cbafd544-f625-4429-8768-3ebeca908948"
      },
      "source": [
        "f, ax = plt.subplots(figsize = (8, 8))\n",
        "ax.plot(wave, flux)\n",
        "plt.xlabel('Rest Wavelength (Anstrom)', fontsize = 16)\n",
        "plt.ylabel('Flux (Anstron/cm/s)', fontsize = 16)\n",
        "plt.xticks(fontsize = 16)\n",
        "plt.yticks(fontsize = 16)\n",
        "plt.title('SDSS spectrum of KISSR 298', fontsize = 16)\n",
        ";"
      ],
      "execution_count": null,
      "outputs": [
        {
          "output_type": "execute_result",
          "data": {
            "text/plain": [
              "''"
            ],
            "application/vnd.google.colaboratory.intrinsic+json": {
              "type": "string"
            }
          },
          "metadata": {},
          "execution_count": 28
        },
        {
          "output_type": "display_data",
          "data": {
            "text/plain": [
              "<Figure size 576x576 with 1 Axes>"
            ],
            "image/png": "[encoded data removed]"
          },
          "metadata": {
            "needs_background": "light"
          }
        }
      ]
    },
    {
      "cell_type": "markdown",
      "metadata": {
        "id": "vSadwUsuHZ4S"
      },
      "source": [
        "## Método automático de poner las unidades en la gráfica."
      ]
    },
    {
      "cell_type": "markdown",
      "metadata": {
        "id": "Mbc27u2oz7xB"
      },
      "source": [
        "Instalamos el paquete specutils que permite poner las unidades correctas en los ejes de la gráfica del espectro (specutils) y las dependencias necesarias."
      ]
    },
    {
      "cell_type": "code",
      "metadata": {
        "colab": {
          "base_uri": "https://localhost:8080/"
        },
        "id": "izIH2ooX0CUf",
        "outputId": "c5172ab9-4cb5-4751-869f-eebbc9b950e7"
      },
      "source": [
        "!pip install specutils"
      ],
      "execution_count": null,
      "outputs": [
        {
          "output_type": "stream",
          "name": "stdout",
          "text": [
            "Looking in indexes: https://pypi.org/simple, https://us-python.pkg.dev/colab-wheels/public/simple/\n",
            "Requirement already satisfied: specutils in /usr/local/lib/python3.7/dist-packages (1.8.1)\n",
            "Requirement already satisfied: asdf!=2.12.0,>=2.10 in /usr/local/lib/python3.7/dist-packages (from specutils) (2.11.2)\n",
            "Requirement already satisfied: astropy>=4.1 in /usr/local/lib/python3.7/dist-packages (from specutils) (4.3.1)\n",
            "Requirement already satisfied: scipy in /usr/local/lib/python3.7/dist-packages (from specutils) (1.7.3)\n",
            "Requirement already satisfied: ndcube>=2.0 in /usr/local/lib/python3.7/dist-packages (from specutils) (2.0.3)\n",
            "Requirement already satisfied: gwcs>=0.17.0 in /usr/local/lib/python3.7/dist-packages (from specutils) (0.18.1)\n",
            "Requirement already satisfied: jmespath>=0.6.2 in /usr/local/lib/python3.7/dist-packages (from asdf!=2.12.0,>=2.10->specutils) (1.0.1)\n",
            "Requirement already satisfied: packaging>=16.0 in /usr/local/lib/python3.7/dist-packages (from asdf!=2.12.0,>=2.10->specutils) (21.3)\n",
            "Requirement already satisfied: importlib-resources>=3 in /usr/local/lib/python3.7/dist-packages (from asdf!=2.12.0,>=2.10->specutils) (5.10.0)\n",
            "Requirement already satisfied: semantic-version>=2.8 in /usr/local/lib/python3.7/dist-packages (from asdf!=2.12.0,>=2.10->specutils) (2.10.0)\n",
            "Requirement already satisfied: six in /usr/local/lib/python3.7/dist-packages (from asdf!=2.12.0,>=2.10->specutils) (1.16.0)\n",
            "Requirement already satisfied: asdf-standard>=1.0.1 in /usr/local/lib/python3.7/dist-packages (from asdf!=2.12.0,>=2.10->specutils) (1.0.1)\n",
            "Requirement already satisfied: jsonschema<4.10.0,>=4.0.1 in /usr/local/lib/python3.7/dist-packages (from asdf!=2.12.0,>=2.10->specutils) (4.9.0)\n",
            "Requirement already satisfied: pyyaml>=3.10 in /usr/local/lib/python3.7/dist-packages (from asdf!=2.12.0,>=2.10->specutils) (6.0)\n",
            "Requirement already satisfied: asdf-transform-schemas>=0.2.2 in /usr/local/lib/python3.7/dist-packages (from asdf!=2.12.0,>=2.10->specutils) (0.2.2)\n",
            "Requirement already satisfied: numpy>=1.10 in /usr/local/lib/python3.7/dist-packages (from asdf!=2.12.0,>=2.10->specutils) (1.21.6)\n",
            "Requirement already satisfied: importlib-metadata in /usr/local/lib/python3.7/dist-packages (from astropy>=4.1->specutils) (5.1.0)\n",
            "Requirement already satisfied: pyerfa>=1.7.3 in /usr/local/lib/python3.7/dist-packages (from astropy>=4.1->specutils) (2.0.0.1)\n",
            "Requirement already satisfied: asdf-wcs-schemas in /usr/local/lib/python3.7/dist-packages (from gwcs>=0.17.0->specutils) (0.1.1)\n",
            "Requirement already satisfied: asdf-astropy>=0.2.0 in /usr/local/lib/python3.7/dist-packages (from gwcs>=0.17.0->specutils) (0.2.0)\n",
            "Requirement already satisfied: asdf-coordinates-schemas in /usr/local/lib/python3.7/dist-packages (from asdf-astropy>=0.2.0->gwcs>=0.17.0->specutils) (0.1.0)\n",
            "Requirement already satisfied: zipp>=3.1.0 in /usr/local/lib/python3.7/dist-packages (from importlib-resources>=3->asdf!=2.12.0,>=2.10->specutils) (3.10.0)\n",
            "Requirement already satisfied: attrs>=17.4.0 in /usr/local/lib/python3.7/dist-packages (from jsonschema<4.10.0,>=4.0.1->asdf!=2.12.0,>=2.10->specutils) (22.1.0)\n",
            "Requirement already satisfied: pyrsistent!=0.17.0,!=0.17.1,!=0.17.2,>=0.14.0 in /usr/local/lib/python3.7/dist-packages (from jsonschema<4.10.0,>=4.0.1->asdf!=2.12.0,>=2.10->specutils) (0.19.2)\n",
            "Requirement already satisfied: pkgutil-resolve-name>=1.3.10 in /usr/local/lib/python3.7/dist-packages (from jsonschema<4.10.0,>=4.0.1->asdf!=2.12.0,>=2.10->specutils) (1.3.10)\n",
            "Requirement already satisfied: typing-extensions in /usr/local/lib/python3.7/dist-packages (from jsonschema<4.10.0,>=4.0.1->asdf!=2.12.0,>=2.10->specutils) (4.4.0)\n",
            "Requirement already satisfied: pyparsing!=3.0.5,>=2.0.2 in /usr/local/lib/python3.7/dist-packages (from packaging>=16.0->asdf!=2.12.0,>=2.10->specutils) (3.0.9)\n"
          ]
        }
      ]
    },
    {
      "cell_type": "markdown",
      "metadata": {
        "id": "CpcRlQnwnAcR"
      },
      "source": [
        "Vamos a crear un objeto llamado \"Spectrum1D\" que vamos a graficar."
      ]
    },
    {
      "cell_type": "code",
      "metadata": {
        "id": "earpJ36ZIkSZ"
      },
      "source": [
        "from specutils import Spectrum1D\n",
        "spec = Spectrum1D(spectral_axis=wave, flux=flux)"
      ],
      "execution_count": null,
      "outputs": []
    },
    {
      "cell_type": "markdown",
      "metadata": {
        "id": "7ymJdWpAKN08"
      },
      "source": [
        "Importamos el módulo para usar unidades posteriormente en la gráfica. (quantity_support)"
      ]
    },
    {
      "cell_type": "code",
      "metadata": {
        "id": "Wm8CfJWcKHYp"
      },
      "source": [
        "from astropy.visualization import quantity_support\n",
        "quantity_support();  # para obtener las unidades en los ejes de la gráfica de abajo."
      ],
      "execution_count": null,
      "outputs": []
    },
    {
      "cell_type": "markdown",
      "metadata": {
        "id": "HdpkbUu2zLg2"
      },
      "source": [
        "Graficamos el espectro. La ventaja de specutils es que las unidades de los ejes de la gráfica están correctas."
      ]
    },
    {
      "cell_type": "code",
      "metadata": {
        "id": "ywwLmwzLe3Nv",
        "outputId": "fc5c5446-1d46-4248-fa0b-c9b0f82a479b",
        "colab": {
          "base_uri": "https://localhost:8080/",
          "height": 525
        }
      },
      "source": [
        "f, ax = plt.subplots(figsize = (8, 8))\n",
        "ax.step(spec.spectral_axis, spec.flux)\n",
        "plt.xlabel('Longitud de onda ({})'.format(spec.spectral_axis.unit), fontsize = 16) \n",
        "plt.ylabel('Flujo ({})'.format(spec.flux.unit), fontsize = 16)\n",
        "plt.xticks(fontsize = 16)\n",
        "plt.yticks(fontsize = 16)\n",
        "plt.title('SDSS spectrum of KISSR 298', fontsize = 16);"
      ],
      "execution_count": null,
      "outputs": [
        {
          "output_type": "display_data",
          "data": {
            "text/plain": [
              "<Figure size 576x576 with 1 Axes>"
            ],
            "image/png": "[encoded data removed]"
          },
          "metadata": {
            "needs_background": "light"
          }
        }
      ]
    },
    {
      "cell_type": "markdown",
      "metadata": {
        "id": "aeaOO9CRzLg5"
      },
      "source": [
        "# Corrección del espectro por polvo en la Vía Láctea"
      ]
    },
    {
      "cell_type": "markdown",
      "metadata": {
        "id": "eF-HWaN9JE0G"
      },
      "source": [
        "Vamos a corregir la luz de las estrellas que se encuentran en la galaxia KISSR 298 por extinción debida al polvo en nuestra Galaxia.\n",
        "\n",
        "Para esto, necesitamos el exceso de color debido al polvo en nuestra Galaxia en la dirección de KISSR 298. "
      ]
    },
    {
      "cell_type": "markdown",
      "metadata": {
        "id": "UFzI9p5VM8Sr"
      },
      "source": [
        "## Método manual de obtención de extinciones en los filtros Blue y Visible. Las extinciones, A$_B$ y A$_V$, tienen unidades de magnitud."
      ]
    },
    {
      "cell_type": "markdown",
      "metadata": {
        "id": "iE6Er76CzLg5"
      },
      "source": [
        "INSTRUCCIONES.\n",
        "\n",
        "* Para calcular el exceso de color, E(B-V), primero encuentra la extinción Galáctica en las bandas Landolt B y V. Para esto ve a: https://ned.ipac.caltech.edu/ \n",
        "* Introduce el nombre del objeto\n",
        "* Ve a la pestaña de Galactic Extinction\n",
        "* Ve a la columna \"Galactic Extinctions\", en donde encontrarás los valores de B y V.\n",
        "* Asigna a las variables A_B y A_V de abajo, el valor de las extinciones en para observaciones en los filstros Blue y Visible.\n",
        "* La variable \"ebvmw\" contiene el exceso de color, E(B-V) debido al polvo en la Vía Láctea (Milky Way).\n",
        "\n"
      ]
    },
    {
      "cell_type": "code",
      "metadata": {
        "id": "Z99mPddnzLg6"
      },
      "source": [
        "A_B=0 #extinción Galáctica en la banda B\n",
        "A_V=0 #extinción Galáctica en la banda V\n",
        "ebvmw=A_B-A_V # exceso de color E(B-V) de la Vía Láctea (Milky Way)"
      ],
      "execution_count": null,
      "outputs": []
    },
    {
      "cell_type": "markdown",
      "metadata": {
        "id": "j94zBTkxNqKg"
      },
      "source": [
        "## Método automático de obtención de las extinciones."
      ]
    },
    {
      "cell_type": "markdown",
      "metadata": {
        "id": "zWKJjp3EOqDw"
      },
      "source": [
        "* Impotamos el módulo para poder obtener la extinción. \n",
        "* La tabla de extinción debida al polvo Galáctico del InfraRed Science Archive (IRSA):\n",
        "* https://irsa.ipac.caltech.edu/applications/DUST/index.html\n",
        "\n",
        "\n",
        "\n"
      ]
    },
    {
      "cell_type": "code",
      "metadata": {
        "id": "Go1wG0xjNuvP",
        "outputId": "fa26aeae-4894-4ec7-94d5-b8093b7d0cd8",
        "colab": {
          "base_uri": "https://localhost:8080/"
        }
      },
      "source": [
        "from astroquery.irsa_dust import IrsaDust\n",
        "#Have the `coords` module automatically look up the coordinates from the name of the source \n",
        "pos = coords.SkyCoord.from_name(\"KISSR 298\")\n",
        "table = IrsaDust.get_extinction_table(pos)"
      ],
      "execution_count": null,
      "outputs": [
        {
          "output_type": "stream",
          "name": "stderr",
          "text": [
            "/usr/local/lib/python3.7/dist-packages/ipykernel_launcher.py:1: DeprecationWarning: the ``irsa_dust`` module has been moved to astroquery.ipac.irsa.irsa_dust, please update your imports.\n",
            "  \"\"\"Entry point for launching an IPython kernel.\n"
          ]
        }
      ]
    },
    {
      "cell_type": "markdown",
      "metadata": {
        "id": "SlZLKizgPMFn"
      },
      "source": [
        "* Obtenemos los valores de extinción para los filtros CTIO B y V\n",
        "*  Esto toma los valores de A_lambda calculados de acuerdo con la prescripción de Schlafly & Finkbeiner (2011), que amplía el Cardelli et al. (1989; CCM89) a longitudes de onda más largas."
      ]
    },
    {
      "cell_type": "code",
      "metadata": {
        "id": "UBWnGdFxPMPB",
        "colab": {
          "base_uri": "https://localhost:8080/"
        },
        "outputId": "dd9a329a-3020-4838-fba5-8cac43534d62"
      },
      "source": [
        "A_B = table['A_SandF'][table['Filter_name'] == 'CTIO B'] # extinción Galáctica en la banda B\n",
        "A_V = table['A_SandF'][table['Filter_name'] == 'CTIO V'] # extinción Galáctica en la banda V\n",
        "ebvmw = A_B - A_V # exceso de color E(B-V) de la Vía Láctea (Milky Way)\n",
        "print(ebvmw.quantity)"
      ],
      "execution_count": null,
      "outputs": [
        {
          "output_type": "stream",
          "name": "stdout",
          "text": [
            "[0.017] mag\n"
          ]
        }
      ]
    },
    {
      "cell_type": "markdown",
      "metadata": {
        "id": "ERQKjW_S0wZ9"
      },
      "source": [
        "Importamos el paquete necesario para hacer la corrección por polvo."
      ]
    },
    {
      "cell_type": "code",
      "metadata": {
        "colab": {
          "base_uri": "https://localhost:8080/"
        },
        "id": "6cw5RfOspTBw",
        "outputId": "474bb89c-13b8-43a9-fe08-3567383df574"
      },
      "source": [
        "!pip install git+https://github.com/karllark/dust_extinction.git"
      ],
      "execution_count": null,
      "outputs": [
        {
          "output_type": "stream",
          "name": "stdout",
          "text": [
            "Looking in indexes: https://pypi.org/simple, https://us-python.pkg.dev/colab-wheels/public/simple/\n",
            "Collecting git+https://github.com/karllark/dust_extinction.git\n",
            "  Cloning https://github.com/karllark/dust_extinction.git to /tmp/pip-req-build-q8uvrs8j\n",
            "  Running command git clone -q https://github.com/karllark/dust_extinction.git /tmp/pip-req-build-q8uvrs8j\n",
            "  Installing build dependencies ... \u001b[?25l\u001b[?25hdone\n",
            "  Getting requirements to build wheel ... \u001b[?25l\u001b[?25hdone\n",
            "    Preparing wheel metadata ... \u001b[?25l\u001b[?25hdone\n",
            "Requirement already satisfied: scipy in /usr/local/lib/python3.7/dist-packages (from dust-extinction==1.2.dev0) (1.7.3)\n",
            "Requirement already satisfied: astropy in /usr/local/lib/python3.7/dist-packages (from dust-extinction==1.2.dev0) (4.3.1)\n",
            "Requirement already satisfied: numpy>=1.17 in /usr/local/lib/python3.7/dist-packages (from astropy->dust-extinction==1.2.dev0) (1.21.6)\n",
            "Requirement already satisfied: pyerfa>=1.7.3 in /usr/local/lib/python3.7/dist-packages (from astropy->dust-extinction==1.2.dev0) (2.0.0.1)\n",
            "Requirement already satisfied: importlib-metadata in /usr/local/lib/python3.7/dist-packages (from astropy->dust-extinction==1.2.dev0) (5.1.0)\n",
            "Requirement already satisfied: zipp>=0.5 in /usr/local/lib/python3.7/dist-packages (from importlib-metadata->astropy->dust-extinction==1.2.dev0) (3.10.0)\n",
            "Requirement already satisfied: typing-extensions>=3.6.4 in /usr/local/lib/python3.7/dist-packages (from importlib-metadata->astropy->dust-extinction==1.2.dev0) (4.4.0)\n",
            "Building wheels for collected packages: dust-extinction\n",
            "  Building wheel for dust-extinction (PEP 517) ... \u001b[?25l\u001b[?25hdone\n",
            "  Created wheel for dust-extinction: filename=dust_extinction-1.2.dev0-py3-none-any.whl size=431002 sha256=e4327458eb4458efef747347f413c5673cfc60506895d84d2019cdcb979af112\n",
            "  Stored in directory: /tmp/pip-ephem-wheel-cache-f7xm17ja/wheels/19/8e/ab/bd10dbae88daa1a75e08e945620b29f72ad22f2017787908b9\n",
            "Successfully built dust-extinction\n",
            "Installing collected packages: dust-extinction\n",
            "Successfully installed dust-extinction-1.2.dev0\n"
          ]
        }
      ]
    },
    {
      "cell_type": "markdown",
      "metadata": {
        "id": "16h_8O3pJ718"
      },
      "source": [
        "Importamos la función que me permite corregir el flujo en cada longitud de onda debida al polvo para el valor de ebvmw dado."
      ]
    },
    {
      "cell_type": "code",
      "metadata": {
        "id": "hl4MG42rzLg6"
      },
      "source": [
        "# Importamos el modelo de Cardelli, Clayton & Mathis (1989) con A_V = 1 y R_V = 3.1\n",
        "from dust_extinction.parameter_averages import CCM89\n",
        "from scipy.optimize import curve_fit\n",
        "\n",
        "# Definimos el modelo de enrojecimiento debido al polvo\n",
        "\n",
        "ext = CCM89(Rv=3.1)\n",
        "\n"
      ],
      "execution_count": null,
      "outputs": []
    },
    {
      "cell_type": "markdown",
      "metadata": {
        "id": "IxzlD0R-KHj0"
      },
      "source": [
        "En principio se debe calcular el flujo corregido, uflux, usando el exceso de color ebvmw que obtuvimos arriba. Sin embargo, para la galaxia KISSR 298, la extinción en la Vía Láctea es muy pequeña. Entonces para ilustrar lo que sucede cuando la extinción es mayor, utilizaremos un valor artificial de E(B-V)."
      ]
    },
    {
      "cell_type": "code",
      "metadata": {
        "id": "xtnB676aKKaF"
      },
      "source": [
        "# Flujo corregido (unextinguished flux )\n",
        "ebvmw=0.1 # en vez de tomar el valor real (E(B-V)=0.017 mag), vamos a usar un valor más grande. Sino, es dificil ver el efecto del polvo en el espectro.\n",
        "uflux = flux / ext.extinguish(1/wave.to(u.micron), Ebv=ebvmw)"
      ],
      "execution_count": null,
      "outputs": []
    },
    {
      "cell_type": "markdown",
      "metadata": {
        "id": "by4rrPejzLg6"
      },
      "source": [
        "Graficamos el espectro antes y después de la corrección por enrojecimiento en la Vía Láctea. ¿Cuál es el espectro más luminoso y porqué?"
      ]
    },
    {
      "cell_type": "code",
      "metadata": {
        "id": "F3Xe1pIIzLg7",
        "colab": {
          "base_uri": "https://localhost:8080/",
          "height": 518
        },
        "outputId": "c9dbac87-f7a2-4c00-b139-9998a65750db"
      },
      "source": [
        "f, ax = plt.subplots(figsize = (8, 8))  \n",
        "\n",
        "ax.step(spec.spectral_axis, spec.flux, label='Con polvo')\n",
        "ax.plot(wave,uflux, label='Sin polvo')\n",
        "plt.xlabel('Longitud de onda ({})'.format(spec.spectral_axis.unit), fontsize = 16) \n",
        "plt.ylabel('Flujo ({})'.format(spec.flux.unit), fontsize = 16)\n",
        "plt.ylim(0,5e-16)\n",
        "plt.xticks(fontsize = 16)\n",
        "plt.yticks(fontsize = 16)\n",
        "plt.legend(loc = 'best');"
      ],
      "execution_count": null,
      "outputs": [
        {
          "output_type": "display_data",
          "data": {
            "text/plain": [
              "<Figure size 576x576 with 1 Axes>"
            ],
            "image/png": "[encoded data removed]"
          },
          "metadata": {
            "needs_background": "light"
          }
        }
      ]
    },
    {
      "cell_type": "markdown",
      "metadata": {
        "id": "wvFhBuTnzLg7"
      },
      "source": [
        "# Corrección por corrimiento al rojo de la galaxia que se está moviendo radialmente respecto al observador."
      ]
    },
    {
      "cell_type": "markdown",
      "metadata": {
        "id": "SalIYDQLOVjW"
      },
      "source": [
        "## Método manual de obtención del corrimiento al rojo, z."
      ]
    },
    {
      "cell_type": "markdown",
      "metadata": {
        "id": "jVpQTEyczLg7"
      },
      "source": [
        "INSTRUCCIONES. \n",
        "\n",
        "* Determina el corrimiento al rojo (redshift), z, de la galaxia usando la base de datos de NED: : https://ned.ipac.caltech.edu/ \n",
        "* Introduce el nombre del objeto\n",
        "* Ve a la pestaña de \"redshift\"\n",
        "* Asigna el corrimiento al rojo que encontraste a la variable z.\n",
        "\n",
        "\n"
      ]
    },
    {
      "cell_type": "code",
      "metadata": {
        "id": "YXkm6pb6zLg7"
      },
      "source": [
        "z=0 #Corrimiento al rojo encontrado manualmente"
      ],
      "execution_count": null,
      "outputs": []
    },
    {
      "cell_type": "markdown",
      "metadata": {
        "id": "7rp80aUxN37Y"
      },
      "source": [
        "# Método automático de obtener el corrimiento al rojo."
      ]
    },
    {
      "cell_type": "markdown",
      "metadata": {
        "id": "gHluFVFGR3rJ"
      },
      "source": [
        "Usamos la base de dato de NED."
      ]
    },
    {
      "cell_type": "code",
      "metadata": {
        "id": "dP4jpu9NN8-o",
        "colab": {
          "base_uri": "https://localhost:8080/"
        },
        "outputId": "a31d7ab0-263b-47cf-efc8-78c39634ed49"
      },
      "source": [
        "from astroquery.ned import Ned\n",
        "result_table = Ned.query_object(\"KISSR 298\")\n",
        "z = result_table['Redshift']\n",
        "print(z)"
      ],
      "execution_count": null,
      "outputs": [
        {
          "output_type": "stream",
          "name": "stderr",
          "text": [
            "/usr/local/lib/python3.7/dist-packages/ipykernel_launcher.py:1: DeprecationWarning: the ``ned`` module has been moved to astroquery.ipac.ned, please update your imports.\n",
            "  \"\"\"Entry point for launching an IPython kernel.\n"
          ]
        },
        {
          "output_type": "stream",
          "name": "stdout",
          "text": [
            " Redshift \n",
            "----------\n",
            "  0.048977\n"
          ]
        }
      ]
    },
    {
      "cell_type": "markdown",
      "metadata": {
        "id": "cMwQOSoEOeVL"
      },
      "source": [
        "Corregimos el vector de longitudes de onda por corrmiento al rojo."
      ]
    },
    {
      "cell_type": "code",
      "metadata": {
        "id": "22zWUsYGzLg9"
      },
      "source": [
        "wave_rest = wave / (1 + z)"
      ],
      "execution_count": null,
      "outputs": []
    },
    {
      "cell_type": "markdown",
      "metadata": {
        "id": "h0MJUQiszLg9"
      },
      "source": [
        "Graficamos el espectro antes y después de la corrección por corrimiento al rojo."
      ]
    },
    {
      "cell_type": "code",
      "metadata": {
        "id": "_6mgjfAMzLg9",
        "colab": {
          "base_uri": "https://localhost:8080/",
          "height": 518
        },
        "outputId": "c10c33d9-c32c-4705-dda2-fe7381fa3516"
      },
      "source": [
        "f, ax = plt.subplots(figsize = (8, 8))  \n",
        "\n",
        "ax.plot(wave, uflux, label=\"Corrido al rojo\")\n",
        "ax.plot(wave_rest, uflux, label=\"Corregido\")\n",
        "plt.xlabel('Longitud de onda ({})'.format(spec.spectral_axis.unit), fontsize = 16) \n",
        "plt.ylabel('Flujo ({})'.format(spec.flux.unit), fontsize = 16)\n",
        "plt.xticks(fontsize = 16)\n",
        "plt.yticks(fontsize = 16)\n",
        "plt.legend(prop = {'size': 16});"
      ],
      "execution_count": null,
      "outputs": [
        {
          "output_type": "display_data",
          "data": {
            "text/plain": [
              "<Figure size 576x576 with 1 Axes>"
            ],
            "image/png": "[encoded data removed]"
          },
          "metadata": {
            "needs_background": "light"
          }
        }
      ]
    },
    {
      "cell_type": "markdown",
      "metadata": {
        "id": "-3FXlFDrSHJa"
      },
      "source": [
        "La galaxia está corrida al rojo. ¿Qué significa esto?"
      ]
    },
    {
      "cell_type": "markdown",
      "metadata": {
        "id": "kMM29P3MSNbR"
      },
      "source": [
        "FIN DE LA PRÁCTICA"
      ]
    },
    {
      "cell_type": "code",
      "metadata": {
        "id": "a8IbqPZBSQsb"
      },
      "source": [],
      "execution_count": null,
      "outputs": []
    }
  ]
}